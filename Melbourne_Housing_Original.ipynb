{
  "cells": [
    {
      "cell_type": "markdown",
      "metadata": {
        "id": "ZEo_0CqJj3xn"
      },
      "source": [
        "# **Melbourne Housing Dataset**"
      ]
    },
    {
      "cell_type": "markdown",
      "metadata": {
        "id": "pxXY2EJK9BRg"
      },
      "source": [
        "## **Dataset Glossary** **bold text**:\n",
        "The detailed data dictionary is given below:\n",
        "\n",
        "|Column|Description|\n",
        "|---|---|\n",
        "|Suburb|Suburb in which the property is located|\n",
        "|Rooms|Number of rooms in the property|\n",
        "|Type|Type of the property like h: house,cottage,villa, semi,terracet t:townhouse u:unit, duplex|\n",
        "|SellerG|Name of the real estate agent who sold the property|\n",
        "|Date|Date on which the property was sold|\n",
        "|Distance|Distance of the property from CBD in kilometres. CBD is the central business district of the city.|\n",
        "|Postcode|Postcode of the area|\n",
        "|Bedroom|Number of bedrooms in the property|\n",
        "|Bathroom|Number of bathrooms in the property|\n",
        "|Car|Number of car parking spaces in the property|\n",
        "|Landsize|Size of the land in square metres|\n",
        "|BuildingArea|Size of the building in square metres (Generally, building size is smaller than land size since someone can have personal gardens and other things in the property.)|\n",
        "|YearBuilt|Year in which the building was built|\n",
        "|Regionname|Name of the region in which the property is located like Eastern Metropolitan, Western Metropolitan, Northern Victoria etc.|\n",
        "|Propertycount|Number of properties that are present in the suburb|\n",
        "|Price|price (in AUD) at which the property was sold|\n"
      ]
    },
    {
      "cell_type": "markdown",
      "metadata": {
        "id": "VXBsn3yOkAS6"
      },
      "source": [
        "## **Import Libraries and Dataset**"
      ]
    },
    {
      "cell_type": "markdown",
      "metadata": {
        "id": "kL1n1fyXkNOa"
      },
      "source": [
        "### Import Necessary Libraries"
      ]
    },
    {
      "cell_type": "code",
      "execution_count": null,
      "metadata": {
        "id": "50j74zd285Dl"
      },
      "outputs": [],
      "source": [
        "# Libraries to help with reading and manipulating data\n",
        "import numpy as np\n",
        "import pandas as pd\n",
        "\n",
        "# Libraries to help with data visualization\n",
        "import matplotlib.pyplot as plt\n",
        "import seaborn as sns\n",
        "\n",
        "# to restrict the float value to 3 decimal places\n",
        "pd.set_option('display.float_format', lambda x: '%.3f' % x)"
      ]
    },
    {
      "cell_type": "markdown",
      "metadata": {
        "id": "35Tu9RX_9OUB"
      },
      "source": [
        "### Import The Dataset"
      ]
    },
    {
      "cell_type": "code",
      "execution_count": null,
      "metadata": {
        "colab": {
          "base_uri": "https://localhost:8080/"
        },
        "id": "HJ4vfMw39SGt",
        "outputId": "7184f368-cc66-4ab2-fe21-a38dee8c237e"
      },
      "outputs": [
        {
          "name": "stdout",
          "output_type": "stream",
          "text": [
            "Mounted at /content/drive\n"
          ]
        }
      ],
      "source": [
        "#import data as a pandas dataframe\n",
        "\n",
        "# Access the .csv file in Google Drive folder. The file path must be correct\n",
        "data = pd.read_csv('Melbourne_Housing.csv')"
      ]
    },
    {
      "cell_type": "markdown",
      "metadata": {
        "id": "ni3ukjMYkXlu"
      },
      "source": [
        "## **Data Check**"
      ]
    },
    {
      "cell_type": "markdown",
      "metadata": {
        "id": "sf7k_hwKknRp"
      },
      "source": [
        "### ***View First And Last Five Rows Of Dataset***"
      ]
    },
    {
      "cell_type": "markdown",
      "metadata": {
        "id": "oF8ELFSyUCaa"
      },
      "source": [
        "\n",
        "- Give the data a glance to understand dataset\n",
        "- Check to see if there any weird/unusual data"
      ]
    },
    {
      "cell_type": "code",
      "execution_count": null,
      "metadata": {
        "colab": {
          "base_uri": "https://localhost:8080/",
          "height": 834
        },
        "id": "AVUPR1n5NDZn",
        "outputId": "c693189b-6c84-4c01-b66d-c8ea31b2832b"
      },
      "outputs": [],
      "source": []
    },
    {
      "cell_type": "markdown",
      "metadata": {
        "id": "k5dK5vMSUioo"
      },
      "source": [
        "### ***View Shape Of Dataset***"
      ]
    },
    {
      "cell_type": "code",
      "execution_count": null,
      "metadata": {
        "colab": {
          "base_uri": "https://localhost:8080/"
        },
        "id": "ngqsqbX-Unx6",
        "outputId": "ff5fe659-6adb-4310-caef-3332cea455b4"
      },
      "outputs": [],
      "source": []
    },
    {
      "cell_type": "markdown",
      "metadata": {
        "id": "XtmeVDGGkt5P"
      },
      "source": [
        "### ***Check the data types of the columns for the dataset***"
      ]
    },
    {
      "cell_type": "markdown",
      "metadata": {
        "id": "nlM2l9iWVHI5"
      },
      "source": [
        "\n",
        "- Check the data types for each column and see if they make sense.\n",
        "- Are numerical values stored as strings?\n",
        "- Are dates and time values stored as strings?"
      ]
    },
    {
      "cell_type": "code",
      "execution_count": null,
      "metadata": {
        "colab": {
          "base_uri": "https://localhost:8080/"
        },
        "id": "lHzdhlznVQb4",
        "outputId": "2d696724-ed79-4fe4-b8af-8d49ce342bfd"
      },
      "outputs": [],
      "source": []
    },
    {
      "cell_type": "markdown",
      "metadata": {
        "id": "xpRnEwLFWZ6b"
      },
      "source": [
        "### ***Change The Data Type Of The Date Column***"
      ]
    },
    {
      "cell_type": "code",
      "execution_count": null,
      "metadata": {
        "id": "4qEkJZbfWtSZ"
      },
      "outputs": [],
      "source": []
    },
    {
      "cell_type": "markdown",
      "metadata": {
        "id": "jGRyfcJkWzk6"
      },
      "source": [
        "***Determine The Reason For BuildingArea Being A String And Convert To Numerical Value***"
      ]
    },
    {
      "cell_type": "code",
      "execution_count": 1,
      "metadata": {
        "colab": {
          "base_uri": "https://localhost:8080/"
        },
        "id": "eu_6BCkdXRNd",
        "outputId": "09492ca5-496b-45ea-9bef-8c7c74db9116"
      },
      "outputs": [],
      "source": [
        "# let's see why BuildingArea column has object data type\n"
      ]
    },
    {
      "cell_type": "code",
      "execution_count": 2,
      "metadata": {
        "colab": {
          "base_uri": "https://localhost:8080/"
        },
        "id": "0MwG4ldEXjbB",
        "outputId": "8f556b86-845b-46c1-805b-e186a4f79dab"
      },
      "outputs": [],
      "source": [
        "# checking the count of different data types in BuildingArea column\n"
      ]
    },
    {
      "cell_type": "code",
      "execution_count": null,
      "metadata": {
        "id": "qq_RqQb9X7iM"
      },
      "outputs": [],
      "source": [
        "# replacing values with nan\n",
        "\n",
        "\n",
        "# changing the data type to float\n"
      ]
    },
    {
      "cell_type": "markdown",
      "metadata": {
        "id": "bMhGg5FNlRjQ"
      },
      "source": [
        "### ***Check For Missing Values***"
      ]
    },
    {
      "cell_type": "markdown",
      "metadata": {
        "id": "DrqeQQmWZG2R"
      },
      "source": [
        "\n",
        "- Missing values occur when no data value is stored for the variable in an observation. Missing data are a common occurrence and can have a significant effect on the conclusions that can be drawn from the data."
      ]
    },
    {
      "cell_type": "code",
      "execution_count": null,
      "metadata": {
        "colab": {
          "base_uri": "https://localhost:8080/"
        },
        "id": "vrJ1JdBMZSZr",
        "outputId": "f936bf17-9988-4b7d-833c-247d706b37be"
      },
      "outputs": [],
      "source": []
    },
    {
      "cell_type": "markdown",
      "metadata": {
        "id": "rare4_KsZshB"
      },
      "source": [
        "### ***Checking for duplicate entries in the data***"
      ]
    },
    {
      "cell_type": "code",
      "execution_count": null,
      "metadata": {
        "colab": {
          "base_uri": "https://localhost:8080/"
        },
        "id": "celNmVr1ZyyF",
        "outputId": "62fe2180-f464-453b-a814-f1429bf083e1"
      },
      "outputs": [],
      "source": [
        "# check for duplicate entries"
      ]
    },
    {
      "cell_type": "code",
      "execution_count": 3,
      "metadata": {
        "id": "y7Idb630aC7c"
      },
      "outputs": [],
      "source": [
        "# dropping duplicate entries from the data\n",
        "\n",
        "\n",
        "# resetting the index of data frame since some rows will be removed\n"
      ]
    },
    {
      "cell_type": "markdown",
      "metadata": {
        "id": "cuPZ2urbaL0G"
      },
      "source": [
        "### ***Check the statistical summary of the data.***"
      ]
    },
    {
      "cell_type": "code",
      "execution_count": 4,
      "metadata": {
        "colab": {
          "base_uri": "https://localhost:8080/"
        },
        "id": "QMo96opMaUEz",
        "outputId": "cbc1be09-e76d-4756-9319-fc51d65e59fb"
      },
      "outputs": [],
      "source": [
        "# call a statistical summary of the data"
      ]
    },
    {
      "cell_type": "markdown",
      "metadata": {
        "id": "u50QrPN6bgK3"
      },
      "source": [
        "# ***FAST AND DIRTY PANDAS TUTORIAL***\n",
        "### Resources:\n",
        "- [Pandas Documentation](https://pandas.pydata.org/docs/)\n",
        "- [TutsWiki](https://tutswiki.com/pandas-cookbook/chapter2/) - I learned Pandas from this site.\n",
        "- [Tutorialspoint](https://www.tutorialspoint.com/python_pandas/python_pandas_groupby.htm)"
      ]
    },
    {
      "cell_type": "markdown",
      "metadata": {
        "id": "tTfL0_NqeCtg"
      },
      "source": [
        "## **Selecting Rows and Columns**"
      ]
    },
    {
      "cell_type": "markdown",
      "metadata": {
        "id": "jlc95pn1md1m"
      },
      "source": [
        "### Selecting Rows"
      ]
    },
    {
      "cell_type": "markdown",
      "metadata": {
        "id": "SF1MRPpHs1l8"
      },
      "source": [
        "\n",
        "- similar to slicing Python lists.\n",
        "- Format: dataframe[ start_index : stop_index]"
      ]
    },
    {
      "cell_type": "code",
      "execution_count": 5,
      "metadata": {
        "colab": {
          "base_uri": "https://localhost:8080/"
        },
        "id": "U6PxUCilde5g",
        "outputId": "464908ee-10bd-4c32-8d09-ca3e4b63ff0c"
      },
      "outputs": [],
      "source": [
        "# select rows"
      ]
    },
    {
      "cell_type": "markdown",
      "metadata": {
        "id": "vPEIgnz5ml7z"
      },
      "source": [
        "### Selecting Columns"
      ]
    },
    {
      "cell_type": "markdown",
      "metadata": {
        "id": "sMIdALLGtKDI"
      },
      "source": [
        "\n",
        "- dataframe[column_name]"
      ]
    },
    {
      "cell_type": "code",
      "execution_count": 6,
      "metadata": {
        "colab": {
          "base_uri": "https://localhost:8080/"
        },
        "id": "OhQDO8fdtUSC",
        "outputId": "e49b1db4-a867-4054-977b-6d308e4d0988"
      },
      "outputs": [],
      "source": [
        "# select columns"
      ]
    },
    {
      "cell_type": "markdown",
      "metadata": {
        "id": "zmAAgMFPmrzo"
      },
      "source": [
        "### **loc Method**"
      ]
    },
    {
      "cell_type": "markdown",
      "metadata": {
        "id": "dLoHlJH0wO1N"
      },
      "source": [
        "\n",
        "- loc is a method to access rows and columns on pandas objects. When using the loc method on a dataframe, we specify which rows and which columns we want by using the following format:\n",
        "\n",
        "    dataframe.loc[row selection, column selection]\n",
        "- DataFrame.loc[] method is a method that takes only index labels and returns row or dataframe if the index label exists in the data frame.\n",
        "\n",
        "<br></br>\n",
        "Accessing selected rows and columns using loc method"
      ]
    },
    {
      "cell_type": "code",
      "execution_count": 7,
      "metadata": {
        "colab": {
          "base_uri": "https://localhost:8080/"
        },
        "id": "bXQogDEcwidn",
        "outputId": "b5f9c862-5bd0-4b1e-db9a-a6c15ab64253"
      },
      "outputs": [],
      "source": [
        "# Selecting specific columns for select rows\n"
      ]
    },
    {
      "cell_type": "code",
      "execution_count": 8,
      "metadata": {
        "colab": {
          "base_uri": "https://localhost:8080/"
        },
        "id": "6pvhLtODxX-T",
        "outputId": "b1c9e634-7650-40c2-a3d3-1183a6f91374"
      },
      "outputs": [],
      "source": [
        "# Selecting specific columns for a range of rows\n"
      ]
    },
    {
      "cell_type": "markdown",
      "metadata": {
        "id": "A8k9u2BBmze0"
      },
      "source": [
        "### **iloc Method**"
      ]
    },
    {
      "cell_type": "markdown",
      "metadata": {
        "id": "idWqpxygx9O_"
      },
      "source": [
        "\n",
        "\n",
        "- The iloc indexer for Pandas Dataframe is used for integer location-based indexing/selection by position. When using the loc method on a dataframe, we specify which rows and which columns we want by using the following format:\n",
        "\n",
        "  dataframe.iloc[row selection, column selection]\n",
        "\n",
        "<br></br>\n",
        "Accessing selected rows and columns using iloc method"
      ]
    },
    {
      "cell_type": "code",
      "execution_count": 9,
      "metadata": {
        "colab": {
          "base_uri": "https://localhost:8080/"
        },
        "id": "xsYfyWwOyFep",
        "outputId": "91df1809-269c-4d07-907d-cd6f934b3914"
      },
      "outputs": [],
      "source": [
        "# access selected rows and columns using iloc"
      ]
    },
    {
      "cell_type": "code",
      "execution_count": null,
      "metadata": {
        "colab": {
          "base_uri": "https://localhost:8080/"
        },
        "id": "-uk9_xY4UKh0",
        "outputId": "d992722d-ac8b-47f6-83c9-26874ace8596"
      },
      "outputs": [],
      "source": []
    },
    {
      "cell_type": "markdown",
      "metadata": {
        "id": "bRrvtC-Gm6WA"
      },
      "source": [
        "## **groupby()**"
      ]
    },
    {
      "cell_type": "markdown",
      "metadata": {
        "id": "OeFkJHoGZfVi"
      },
      "source": [
        "\n",
        "- Pandas dataframe.groupby() function is used to split the data into groups based on some criteria. The format:\n",
        "  - dataframe.groupby([columns to be grouped])\n",
        "- [Good .groupby() Tutorial](https://www.youtube.com/watch?v=ipoSjrN0oh0&t=310s)\n"
      ]
    },
    {
      "cell_type": "markdown",
      "metadata": {
        "id": "YCJ715ANiZhY"
      },
      "source": [
        "Group by a single column"
      ]
    },
    {
      "cell_type": "code",
      "execution_count": 10,
      "metadata": {
        "colab": {
          "base_uri": "https://localhost:8080/",
          "height": 423
        },
        "id": "N2JEkL1OZt5c",
        "outputId": "d329fbd4-60cc-4646-d099-dd3166cbd69b"
      },
      "outputs": [],
      "source": [
        "# use groupby to get the mean "
      ]
    },
    {
      "cell_type": "markdown",
      "metadata": {
        "id": "LJi67z6rihy5"
      },
      "source": [
        "Group by multiple columns"
      ]
    },
    {
      "cell_type": "code",
      "execution_count": 12,
      "metadata": {
        "colab": {
          "base_uri": "https://localhost:8080/",
          "height": 423
        },
        "id": "M7y6eG6DcBdb",
        "outputId": "4515b0dd-c701-4065-d10b-61a497e46fa0"
      },
      "outputs": [],
      "source": [
        "# use groupby to get mean for multiple columns\n"
      ]
    },
    {
      "cell_type": "markdown",
      "metadata": {
        "id": "TjuldJ4Dil-F"
      },
      "source": [
        "Apply multiple functions to a group"
      ]
    },
    {
      "cell_type": "code",
      "execution_count": 13,
      "metadata": {
        "colab": {
          "base_uri": "https://localhost:8080/",
          "height": 455
        },
        "id": "3HPa5jxBirPz",
        "outputId": "06edc295-53ab-4984-ed80-1d17795accf2"
      },
      "outputs": [],
      "source": [
        "# use groupby to apply multiple functions to a column"
      ]
    },
    {
      "cell_type": "markdown",
      "metadata": {
        "id": "AOhFralAqoNE"
      },
      "source": [
        "## **Creating A New Column In A Dataset**"
      ]
    },
    {
      "cell_type": "markdown",
      "metadata": {
        "id": "7-31T8OHqwf8"
      },
      "source": [
        "Format **dataframe[ \"name_of_new_column\" ] = new_value**"
      ]
    },
    {
      "cell_type": "code",
      "execution_count": null,
      "metadata": {
        "id": "3KWd4AUmrGSI"
      },
      "outputs": [],
      "source": [
        "# create a new column"
      ]
    },
    {
      "cell_type": "markdown",
      "metadata": {
        "id": "2TJhOtU4nnUQ"
      },
      "source": [
        "## **Math and Statistical Functions**"
      ]
    },
    {
      "cell_type": "markdown",
      "metadata": {
        "id": "wZLUNG5Lnq2Y"
      },
      "source": [
        "### min()"
      ]
    },
    {
      "cell_type": "markdown",
      "metadata": {
        "id": "gcSJ2c8hVd2w"
      },
      "source": [
        "\n",
        "\n",
        "min() - to check the minimum value of a numeric column"
      ]
    },
    {
      "cell_type": "code",
      "execution_count": 14,
      "metadata": {
        "colab": {
          "base_uri": "https://localhost:8080/"
        },
        "id": "ZSedFGzAVpXm",
        "outputId": "54506430-3169-4265-cac2-adfdc4c1d127"
      },
      "outputs": [],
      "source": [
        "# calculate the minimum value for a column"
      ]
    },
    {
      "cell_type": "markdown",
      "metadata": {
        "id": "O_MKb5HJnvJs"
      },
      "source": [
        "### max()"
      ]
    },
    {
      "cell_type": "markdown",
      "metadata": {
        "id": "bM3ai8BMVzyu"
      },
      "source": [
        "max() - to check the maximum value of a numeric column"
      ]
    },
    {
      "cell_type": "code",
      "execution_count": 15,
      "metadata": {
        "colab": {
          "base_uri": "https://localhost:8080/"
        },
        "id": "bDEimyCEV4OM",
        "outputId": "d044824e-d13c-4ab6-b9ba-b5182500e848"
      },
      "outputs": [],
      "source": [
        "# calculate the maximum value for a column"
      ]
    },
    {
      "cell_type": "markdown",
      "metadata": {
        "id": "Vzju6lpGnyyk"
      },
      "source": [
        "### mean()"
      ]
    },
    {
      "cell_type": "markdown",
      "metadata": {
        "id": "oRw-geWxWEMx"
      },
      "source": [
        "mean() - to check the mean (average) value of the column"
      ]
    },
    {
      "cell_type": "code",
      "execution_count": 16,
      "metadata": {
        "colab": {
          "base_uri": "https://localhost:8080/"
        },
        "id": "T0hdUSuhWLYf",
        "outputId": "9ba4b90e-dd2a-4a50-cbee-911f31d1a359"
      },
      "outputs": [],
      "source": [
        "# calculate the mean for a column"
      ]
    },
    {
      "cell_type": "markdown",
      "metadata": {
        "id": "MqB8gvv-n1ur"
      },
      "source": [
        "### median()"
      ]
    },
    {
      "cell_type": "markdown",
      "metadata": {
        "id": "IGZcoiUYWPRz"
      },
      "source": [
        "median() - to check the median value of the column"
      ]
    },
    {
      "cell_type": "code",
      "execution_count": 17,
      "metadata": {
        "colab": {
          "base_uri": "https://localhost:8080/"
        },
        "id": "MIEE-Cd1WVBu",
        "outputId": "530a8213-55a6-4b57-bc49-7af4d5b063a3"
      },
      "outputs": [],
      "source": [
        "# calculate the median for a column"
      ]
    },
    {
      "cell_type": "markdown",
      "metadata": {
        "id": "NbCV7ThSn4sM"
      },
      "source": [
        "### mode()"
      ]
    },
    {
      "cell_type": "markdown",
      "metadata": {
        "id": "EFwZDQqcWexc"
      },
      "source": [
        "mode() - to check the mode value of the column"
      ]
    },
    {
      "cell_type": "code",
      "execution_count": 18,
      "metadata": {
        "colab": {
          "base_uri": "https://localhost:8080/"
        },
        "id": "xJtPJepQWjZP",
        "outputId": "437affa2-e971-42ec-a812-d4bfb5a2ac95"
      },
      "outputs": [],
      "source": [
        "# calculate mode"
      ]
    },
    {
      "cell_type": "markdown",
      "metadata": {
        "id": "QSr3nL8_W-nx"
      },
      "source": [
        "### value_counts()"
      ]
    },
    {
      "cell_type": "markdown",
      "metadata": {
        "id": "5b5zMagRW05V"
      },
      "source": [
        "value_counts() - to check the number of values that each unique quantity has in a column"
      ]
    },
    {
      "cell_type": "code",
      "execution_count": 19,
      "metadata": {
        "colab": {
          "base_uri": "https://localhost:8080/"
        },
        "id": "y6Hm9WLdWyZD",
        "outputId": "0dffc54b-3099-4a0a-fc54-4b8156ed167d"
      },
      "outputs": [],
      "source": [
        "# value counts"
      ]
    },
    {
      "cell_type": "markdown",
      "metadata": {
        "id": "avjI_SUIXG48"
      },
      "source": [
        "value_counts(normalize=True) - using the normalize parameter and initializing it to True will return the relative frequencies of the unique values."
      ]
    },
    {
      "cell_type": "code",
      "execution_count": 20,
      "metadata": {
        "colab": {
          "base_uri": "https://localhost:8080/"
        },
        "id": "6pXJObrBXICc",
        "outputId": "587697f3-b9e5-4d9d-f1e1-76eebb0b32f9"
      },
      "outputs": [],
      "source": [
        "# express values a percentage of the whole\n"
      ]
    },
    {
      "cell_type": "markdown",
      "metadata": {
        "id": "x7qdK7EgoD6S"
      },
      "source": [
        "### sum()"
      ]
    },
    {
      "cell_type": "markdown",
      "metadata": {
        "id": "A-auVhznc1gN"
      },
      "source": [
        "sum() - adds up all the values in the column"
      ]
    },
    {
      "cell_type": "code",
      "execution_count": 21,
      "metadata": {
        "colab": {
          "base_uri": "https://localhost:8080/"
        },
        "id": "rDLqO4uLc9Az",
        "outputId": "ab887924-835c-4ead-a98b-4c55d025529a"
      },
      "outputs": [],
      "source": [
        "# sum"
      ]
    },
    {
      "cell_type": "markdown",
      "metadata": {
        "id": "mKRkpLX9oGyx"
      },
      "source": [
        "### Adding, Subtracting, Multiplying and Dividing Columns by a Value"
      ]
    },
    {
      "cell_type": "markdown",
      "metadata": {
        "id": "NagX3lnNp3bt"
      },
      "source": [
        "**Add A Value To A Column**"
      ]
    },
    {
      "cell_type": "code",
      "execution_count": 22,
      "metadata": {
        "colab": {
          "base_uri": "https://localhost:8080/"
        },
        "id": "h4T94LHnoahs",
        "outputId": "7b82e082-ad1d-4dc3-f6ea-fefea25991fe"
      },
      "outputs": [],
      "source": [
        "# add value to all values in a column"
      ]
    },
    {
      "cell_type": "markdown",
      "metadata": {
        "id": "dPpxtubjpyo8"
      },
      "source": [
        "**Subtracting A Value From A Column**"
      ]
    },
    {
      "cell_type": "code",
      "execution_count": 23,
      "metadata": {
        "colab": {
          "base_uri": "https://localhost:8080/"
        },
        "id": "NB9FsiPHpaJs",
        "outputId": "bf167868-a168-4066-a13f-a2e7dcc312cb"
      },
      "outputs": [],
      "source": [
        "# subtract a value from all values in a column"
      ]
    },
    {
      "cell_type": "markdown",
      "metadata": {
        "id": "ApIp_8ccpuxq"
      },
      "source": [
        "**Multiplying A Column By A Value**"
      ]
    },
    {
      "cell_type": "code",
      "execution_count": 24,
      "metadata": {
        "colab": {
          "base_uri": "https://localhost:8080/"
        },
        "id": "anAZKLtgpddD",
        "outputId": "3c1f5d1b-bc52-4952-f015-f4cde7920945"
      },
      "outputs": [],
      "source": [
        "# multiply all values in a column by a value"
      ]
    },
    {
      "cell_type": "markdown",
      "metadata": {
        "id": "kWn1u_bapm_w"
      },
      "source": [
        "**Dividing A Column By A Value**"
      ]
    },
    {
      "cell_type": "code",
      "execution_count": null,
      "metadata": {
        "id": "HQib8D6zpg8g"
      },
      "outputs": [],
      "source": [
        "# divide all values in a column by a value"
      ]
    },
    {
      "cell_type": "markdown",
      "metadata": {
        "id": "BdMsa-ytqF36"
      },
      "source": [
        "### Adding, Subtracting, Multiplying and Dividing Columns By Other Columns"
      ]
    },
    {
      "cell_type": "code",
      "execution_count": null,
      "metadata": {
        "id": "q3tx9SKCr5wD"
      },
      "outputs": [],
      "source": []
    },
    {
      "cell_type": "markdown",
      "metadata": {
        "id": "xQZE5qpqsJF1"
      },
      "source": [
        "# **Exploratory Data Analysis**"
      ]
    },
    {
      "cell_type": "markdown",
      "metadata": {
        "id": "wFYyIOlRsezZ"
      },
      "source": [
        "## Histograms and Boxplots"
      ]
    },
    {
      "cell_type": "markdown",
      "metadata": {
        "id": "Wf7ChNr2taqS"
      },
      "source": [
        "**Understanding Normal Distribution**"
      ]
    },
    {
      "cell_type": "code",
      "execution_count": null,
      "metadata": {
        "colab": {
          "base_uri": "https://localhost:8080/",
          "height": 321
        },
        "id": "foUP8iAxsm5M",
        "outputId": "4e8a83ec-0284-4642-e6a2-30a0594dcad2"
      },
      "outputs": [
        {
          "data": {
            "image/jpeg": "[encoded data removed]",
            "text/html": [
              "\n",
              "        <iframe\n",
              "            width=\"400\"\n",
              "            height=\"300\"\n",
              "            src=\"https://www.youtube.com/embed/mtbJbDwqWLE\"\n",
              "            frameborder=\"0\"\n",
              "            allowfullscreen\n",
              "        ></iframe>\n",
              "        "
            ],
            "text/plain": [
              "<IPython.lib.display.YouTubeVideo at 0x7f97a5741610>"
            ]
          },
          "execution_count": 34,
          "metadata": {},
          "output_type": "execute_result"
        }
      ],
      "source": [
        "from IPython.display import YouTubeVideo\n",
        "YouTubeVideo('mtbJbDwqWLE')"
      ]
    },
    {
      "cell_type": "markdown",
      "metadata": {
        "id": "pFz_YgG5uet1"
      },
      "source": [
        "**Understanding Boxplots**"
      ]
    },
    {
      "cell_type": "code",
      "execution_count": null,
      "metadata": {
        "colab": {
          "base_uri": "https://localhost:8080/",
          "height": 321
        },
        "id": "Mx_DqGguuk6E",
        "outputId": "ebbfb6ed-8d60-49bc-8e6f-3a5a5b38d35d"
      },
      "outputs": [
        {
          "data": {
            "image/jpeg": "[encoded data removed]",
            "text/html": [
              "\n",
              "        <iframe\n",
              "            width=\"400\"\n",
              "            height=\"300\"\n",
              "            src=\"https://www.youtube.com/embed/INSIyaZUXIY\"\n",
              "            frameborder=\"0\"\n",
              "            allowfullscreen\n",
              "        ></iframe>\n",
              "        "
            ],
            "text/plain": [
              "<IPython.lib.display.YouTubeVideo at 0x7f97a56d1490>"
            ]
          },
          "execution_count": 35,
          "metadata": {},
          "output_type": "execute_result"
        }
      ],
      "source": [
        "from IPython.display import YouTubeVideo\n",
        "YouTubeVideo('INSIyaZUXIY')"
      ]
    },
    {
      "cell_type": "markdown",
      "metadata": {
        "id": "lKzP7RQ3u71T"
      },
      "source": [
        "### Histogram"
      ]
    },
    {
      "cell_type": "markdown",
      "metadata": {
        "id": "sQNfzLSFwPgN"
      },
      "source": [
        "- A histogram is a bar graph-like representation of data that buckets a range of classes into columns along the horizontal x-axis.\n",
        "- The vertical y-axis represents the number count or percentage of occurrences in the data for each column\n",
        "- Columns can be used to visualize patterns of data distributions.\n",
        "\n",
        "\n",
        "<br></br>\n",
        "Histogram For One Column"
      ]
    },
    {
      "cell_type": "code",
      "execution_count": null,
      "metadata": {
        "id": "rmJye9x9vCjx"
      },
      "outputs": [],
      "source": []
    },
    {
      "cell_type": "markdown",
      "metadata": {
        "id": "-rbH35HpwTl4"
      },
      "source": [
        "Histogram For Multiple Columns"
      ]
    },
    {
      "cell_type": "code",
      "execution_count": null,
      "metadata": {
        "id": "9yoWB7W1vMVP"
      },
      "outputs": [],
      "source": []
    },
    {
      "cell_type": "markdown",
      "metadata": {
        "id": "ih6IZz0Gwawu"
      },
      "source": [
        "### **Boxplot**\n",
        "\n",
        "- A box and whisker plot—also called a box plot—displays the five-number summary of a set of data.\n",
        "- The five-number summary is the minimum, first quartile, median, third quartile, and maximum.\n",
        "- In a box plot, a box runs from the first quartile to the third quartile.\n",
        "- A vertical line goes through the box at the median.\n",
        "- The whiskers go from each quartile to the minimum or maximum.\n",
        "- The whiskers are set at 1.5 times the interquartile range from the lower or upper quartile\n",
        "\n",
        "![maxresdefault.jpg](data:image/jpeg;base64,/9j/4AAQSkZJRgABAQAAAQABAAD/2wCEAAUDBAgICAgICAgICAgGBwgIBwcHBwgICAgICAgICAgICAgIChALCAgOCQgIDRUNDhERExMTCAsWGBYSGBASExIBBQUFBwYHDggIDh4SERUeHh4YGBceHB0eFR8eHh4VFx4dFh0eFhUXHh8eHhcWHh0VFR4XHRoVFx0XFRUVFRUVFf/AABEIAtAFAAMBIgACEQEDEQH/xAAdAAEAAgMBAQEBAAAAAAAAAAAABgcEBQkIAgMB/8QAZhAAAQQBAgEFBw4ICwQIBAILAAECAwQFBhESBxMXIVQIFBUxk9LUFiIyNTZBUVJWdpWWtdMjYXFzkZS0xTNCU1VydHWBpLGzCSQ3YiY0ZXeCkqHRGCWywYWiwkNjZIOHo7bD4Sf/xAAaAQEAAwEBAQAAAAAAAAAAAAAABAUGAQMC/8QAMxEBAAEBBAYHCQEBAQAAAAAAAAECAwQFUhESInGR0QYUMzRRYaEVFiExMjVBsvATgSP/2gAMAwEAAhEDEQA/APGQAAAAAAAAAAAAAAAAAAAAAAAAAAAAAAAAAAAAAAAAAAAAAAAAAAAAAAAAAAAAAAAAAAAAAAAAAAAAAAAAAAAAAAAAAAAAAAAAAAAAAAAAAAAAAAAAAAAAAAAAAAAAAAAAAAAAAAAAAAAAAAAAAAAAAAAAAAAAAAAAAAAAAAAAAAAAAAAAAAAAAAAAAAAAAAAAAAAAAAAAAAAAAAAAAAAAAAAAAAAAAAAAAAAAAAAAAAAAAAAAAAAAAAAAAAAAAAAAAAAAAAAAAAAAAAAAAAAAAAAAAAAAAAAAAAAAAAAAAAAAAAAAAAAAAAAAAAAAAAAAAAAAAAAAAAAAAAAAAAAAAAAAAAAAAAAAAAAAAAAAAAAAAAAAAAAAAAAAAAAAAAAAAAAAAAAAAAAAAAAAAAAAAAAAAAAAAAAAAAAAAAAAAAA7MADjODswAOM4OzAA4zg7MADjODswAOM4OzAA4zg7MADjODswAOM4OzAA4zg7MADjODswAOM4OzAA4zg7MADjODswAOM4OzAA4zg7MADjODswAOM4OzAA4zg7MADjODswAOM4OzAA4zg7MADjODswAOM4OzAA4zg7MADjODswAOM4OzAA4zg7MADjODswAOM4OzAA4zg7MADjODswAOM4OzAA4zg7MADjODswAOM4OzAA4zg7MADjODswAOM4OzAA4zg7MADjODswAOM4OzAA4zg7MADjODswAOM4OzAA4zg7MADjODswAOM4OzAA4zg7MADjODswAOM4OzAA4zg7MADjODswAOM4OzAA4zg7MADjODswAOM4OzAA4zg7MADjODswAOM4OzAA4zg7MADjODswAOM4OzAA4zg7MADjODswAOM4OzAA4zg7MADjODswAOM4OzAA4zg7MADjODswAOM4OzAA4zg7MADjODswAOM4OzAA4zg7MADjODswAOM4OzAA4zg7MADjODswAAAAAAAAAAAAAAAAAAAAAAAAAAAAAAAAAAAAAAAAAAAAAAAAAAAAAAAAAAAAAAAAAAAAAAAAAAAAAAAAAAAAAAAAAAAAAAAAAAAAAAAAAAAAAAAAAAAAAAAAAAAAAAAAAAAAAAAAAAAAAAAAAAAAAAAAAAAAAAAAAAAAAAAAAAAAAAAAAAAAAAAAAAAAAAAAAAAAAAAAAAAAAAAAAAAAAAAAAAAArXlygdYm0zT74uV4cjqVILfeF61RllhTD5edI1nqSMkRnOwxO2R3jYhk9EWM7ZqL63ah9OPnld9sNH/Ov9w5wsMCvuiLGds1F9btQ+nDoixnbNRfW7UPpxYIAr7oixnbNRfW7UPpw6IsZ2zUX1u1D6cWCAK+6IsZ2zUX1u1D6cOiLGds1F9btQ+nFggCvuiLGds1F9btQ+nDoixnbNRfW7UPpxYIAr7oixnbNRfW7UPpw6IsZ2zUX1u1D6cWCAK+6IsZ2zUX1u1D6cOiLGds1F9btQ+nFggCvuiLGds1F9btQ+nDoixnbNRfW7UPpxYIAr7oixnbNRfW7UPpw6IsZ2zUX1u1D6cWCAK+6IsZ2zUX1u1D6cOiLGds1F9btQ+nFggCvuiLGds1F9btQ+nDoixnbNRfW7UPpxYIAr7oixnbNRfW7UPpw6IsZ2zUX1u1D6cWCAK+6IsZ2zUX1u1D6cOiLGds1F9btQ+nFggCvuiLGds1F9btQ+nDoixnbNRfW7UPpxYIAr7oixnbNRfW7UPpw6IsZ2zUX1u1D6cWCAK+6IsZ2zUX1u1D6cOiLGds1F9btQ+nFggCvuiLGds1F9btQ+nDoixnbNRfW7UPpxYIAr7oixnbNRfW7UPpw6IsZ2zUX1u1D6cWCAK+6IsZ2zUX1u1D6cOiLGds1F9btQ+nFggCvuiLGds1F9btQ+nDoixnbNRfW7UPpxYIAr7oixnbNRfW7UPpw6IsZ2zUX1u1D6cWCAK+6IsZ2zUX1u1D6cOiLGds1F9btQ+nFggCvuiLGds1F9btQ+nDoixnbNRfW7UPpxYIAr7oixnbNRfW7UPpw6IsZ2zUX1u1D6cWCAK+6IsZ2zUX1u1D6cOiLGds1F9btQ+nFggCvuiLGds1F9btQ+nDoixnbNRfW7UPpxYIAr7oixnbNRfW7UPpw6IsZ2zUX1u1D6cWCAK+6IsZ2zUX1u1D6cOiLGds1F9btQ+nFggCvuiLGds1F9btQ+nDoixnbNRfW7UPpxYIAr7oixnbNRfW7UPpw6IsZ2zUX1u1D6cWCAK+6IsZ2zUX1u1D6cOiLGds1F9btQ+nFggCvuiLGds1F9btQ+nDoixnbNRfW7UPpxYIAr7oixnbNRfW7UPpw6IsZ2zUX1u1D6cWCAK+6IsZ2zUX1u1D6cOiLGds1F9btQ+nFggCvuiLGds1F9btQ+nDoixnbNRfW7UPpxYIAr7oixnbNRfW7UPpw6IsZ2zUX1u1D6cWCAK+6IsZ2zUX1u1D6cOiLGds1F9btQ+nFggCvuiLGds1F9btQ+nDoixnbNRfW7UPpxYIAr7oixnbNRfW7UPpw6IsZ2zUX1u1D6cWCAK+6IsZ2zUX1u1D6cOiLGds1F9btQ+nFggCvuiLGds1F9btQ+nDoixnbNRfW7UPpxYIAr7oixnbNRfW7UPpw6IsZ2zUX1u1D6cWCAK+6IsZ2zUX1u1D6cOiLGds1F9btQ+nFggCvuiLGds1F9btQ+nDoixnbNRfW7UPpxYIAr7oixnbNRfW7UPpw6IsZ2zUX1u1D6cWCAK+6IsZ2zUX1u1D6cOiLGds1F9btQ+nFggCvuiLGds1F9btQ+nDoixnbNRfW7UPpxYIAr7oixnbNRfW7UPpw6IsZ2zUX1u1D6cWCAK+6IsZ2zUX1u1D6cOiLGds1F9btQ+nFggCvuiLGds1F9btQ+nDoixnbNRfW7UPpxYIAr7oixnbNRfW7UPpw6IsZ2zUX1u1D6cWCAK+6IsZ2zUX1u1D6cOiLGds1F9btQ+nFggCvuiLGds1F9btQ+nDoixnbNRfW7UPpxYIAr7oixnbNRfW7UPpw6IsZ2zUX1u1D6cWCAK+6IsZ2zUX1u1D6cOiLGds1F9btQ+nFggCvuiLGds1F9btQ+nDoixnbNRfW7UPpxYIAr7oixnbNRfW7UPpw6IsZ2zUX1u1D6cWCAK+6IsZ2zUX1u1D6cOiLGds1F9btQ+nFggCvuiLGds1F9btQ+nDoixnbNRfW7UPpxYIAr7oixnbNRfW7UPpw6IsZ2zUX1u1D6cWCAK+6IsZ2zUX1u1D6cOiLGds1F9btQ+nFggCvuiLGds1F9btQ+nDoixnbNRfW7UPpxYIAr7oixnbNRfW7UPpw6IsZ2zUX1u1D6cWCAK+6IsZ2zUX1u1D6cOiLGds1F9btQ+nFggCvuiLGds1F9btQ+nDoixnbNRfW7UPpxYIAr7oixnbNRfW7UPpw6IsZ2zUX1u1D6cWCAK+6IsZ2zUX1u1D6cOiLGds1F9btQ+nFggCvuiLGds1F9btQ+nDoixnbNRfW7UPpxYIAr7oixnbNRfW7UPpw6IsZ2zUX1u1D6cWCAK+6IsZ2zUX1u1D6cOiLGds1F9btQ+nFggCvuiLGds1F9btQ+nDoixnbNRfW7UPpxYIAr7oixnbNRfW7UPpw6IsZ2zUX1u1D6cWCAK+6IsZ2zUX1u1D6cOiLGds1F9btQ+nFggCvuiLGds1F9btQ+nDoixnbNRfW7UPpxYIAr7oixnbNRfW7UPpw6IsZ2zUX1u1D6cWCAK+6IsZ2zUX1u1D6cOiLGds1F9btQ+nFggCoZtMRYfUWm21LmXdHkHZdlqG9nsrfhkbDjnSRbw3bL2btf1ou2+5bxX+vPdJpL87m/stxYAAAAAAAAAFecrvtho/51/uHOFhlecrvtho/wCdf7hzhYYAAAAAAAAAAAAAAAAAAAAAAAAAAAAAAAAAAAAAAAAAAAAAAAAAAAAAAAAAAAAAAAAAAAAAAAAAAAAAAAAAAAAAAAAAAAAAAAAAAAAAAAAAAAAAAAAAAAAAAAAAAAAAAAAAAAAAAAAAAAAAAAAAAAAAAAAAAAAAAAAAAAAAAAAAAAAAAAAAAAAAAAAAAAAAAAAAAAAAAAAFf6890mkvzub+y3FgFf6890mkvzub+y3FgAAAAAAAAAV5yu+2Gj/nX+4c4WGV5yu+2Gj/AJ1/uHOFhgAAAAAAAAAAAAAAAAAAAAAAAAAAAAAAAAAAAAAAAAAAAAAAAAAAAAAAAAAAAAAAAAAAAAAAAAAAAAAAAAAAAAAAAAAAAAAAAAAAAAAAAAAAAAAAAAAAAAAAAAAAAAAAAAAAAAAAAAAAAAAAAAAAAAAAAAAAAAAAAAAAAAAAAAAAAAAAAAAAAAAAAAAAAAAAAAAAAAAAAAV/rz3SaS/O5v7LcWAV/rz3SaS/O5v7LcWAAAAAAAAABXnK77YaP+df7hzhYZXnK77YaP8AnX+4c4WGAAAAAAAAAAAAAAAAAAAAAAAAAAAAAAAAAAAAAAAAAAAAAAAAAAAAAAAAAAAAAAAAAAAAAAAAAAAAAAAAAAAAAAAAAAAAAAAAAAAAAAAAAAAAAAAAAAAAAAAAAAAAAAAAAAAAAAAAAAAAAAAAAAAAAAAAAAAAAAAAAAAAAAAAAAAAAAAAAAAAAAAAAAAAAAAAAAAAAAAABX+vPdJpL87m/stxYBX+vPdJpL87m/stxYAAAAAAAAAFecrvtho/51/uHOFhlecrvtho/wCdf7hzhYYAAAAAAAAAAAAAAAAAAAAAAAAAAAAAAAAAAAAAAAAAAAAAAAAAAAAAAAAAAAAAAAAAAAAAAAAAAAAAAAAAAAAAAAAAAAAAAAAAAAAAAAAAAAAAAAAAAAAAAAAAAAAAAAAAAAAAAAAAAAAAAAAAAAAAAAAAAAAAAAAAAAAAAAAAAAAAAAAAAAAAAAAAAAAAAAAAAAAAAAAFf6890mkvzub+y3FgFf6890mkvzub+y3FgAAAAAAAAAV5yu+2Gj/nX+4c4WGV5yu+2Gj/AJ1/uHOFhgAAAAAAAAAAAAAAAAAAAAAAAAAAAAAAAAAAAAAAAAAAAAAAAAAAAAAAAAAAAAAAAAAAAAAAAAfx69S/kUofuIdc5XP4G7by9x12xBmpq0cr4oY1bC2nRlazhgja1U45ZF3VN/XF8SeJfyL/AJHmP/Zw+5nI/OKf7PxoHpTv+D8KvPRbVt1nXnWbQom+/O9f4Pbhd49vYqYmD1Hj7/H3jfp3eZXaXvO3BZ5tfFs/mXrwrv8ACeSOSHk8g1DrPXkGQkldiKeddPcxUUr4Y8hbW7kO8nWnxKj3wQo20/m0VEV8jFX2Oy7XujtC43RdvTmptPQLjJmZ2vQu16sknMWq80ckr2vje5Uaix15Y1RuyOSXdetEUC4O6l5Q7em8BLkMe+t36yzVZHFabzjXRyy8Ei80j2uXq99F94sHCZqvPFXXvmu6aeGNysZNGqq90aOcjWI5V+HqKA/2gGlqEunXZeSujsjQmq1atrnJUWKCexvKxI2vSN2+69bmqqb9SoT/AJO+QzSuOkx+UpYlkF+tEyaGw25fcrZJa6xvdzclhY3btkemytVOv4UQCz71uKCN0s8scMUabvlme2ONifC571RGp+UwMBqTHZBHLQv0ryR+zWlcgsoz3vXcy93D1/CeTtQZ7Car1nmYdV5eCpgNHz95YzDWb3eUV66x8tezZkckjXS8MkM26t2XhlgTfZHI/F5damiMZSZntGZbG4/P4SetLWhxWTR/fsSzsilgfV51WyIjJHPdsnr2se1/Ei9QezLNiOJqvleyNibbvke1jU36k3c5dvGa7Nalx1FI1u36VRJ9uZW3cgrpJv1JzayvTj3/ABFE91jnEyfJp4Sazm0ytfBXUjXxxpamqT8C/jTnNv7jL5N+56wd7E1Luoq8mYy+VoVprtu1bssWHnIGLHVqsrysZBFDHwRt4URfWe8myIF9XrcUEb5p5Y4Yok4pJZpGxxsb8L3vVGtT8aqYWJ1Fj7cLrFS9TtQRrs+etbhmhYvwOkjerWr+VTzdrvF+rjlBm09ffN6n9G0I7dmnFK6Jl29NHA5Fe6NyPR21tGcSdbW15UarVlVV/ndQ8imMxOnsjltOwuxVmrVbBkIKksq18hjZpY47EFiCVzmK5nE2ZHoiO3h99eFWh6gSxHwc7xs5rh4+d428HBtvxce+3Dt17n1XmZI1Hxva9jvYvY5HNXZdl2c3qXrRf0FHY/8A4Tr8wJ/siQ3PcdJ/0IwH9XtfaFsC1VtRc4kXOR86reJIuNvOK3r9cjN+LbqXr/Efy/dhrxulnligiZ7KWaRscbfyveqIh58yX/GCn80Hf6tomfL9prR1h1LI6ulhbFjmzxUorVyWCKR8yxSScMMDmy2pESJnrU4k233aoFgYHVOMyCubQyNC66P2baV2vZVu3j4khe5W/wB5tZZGtarnKjWsRXOc5URrWom6qqr1IiJ754T5aMzyapSW/pG+uM1FipYZ8a/H1MxWbO5kjUkik5+ukLfwbnuR+7V3Y1FVWqrV9Narzz8pyd38lI1GSZTQ9y3KxvsWyWMNJLI1v/Kj3ORPxIgFh5LPUa0CWbN2pXrKuyWbFqGKBVRVRUSWRyMVd0X3/eUqblx5WZ8VkNIQ4yxQmqalzENa/K5Wzp3nNNRRs0EscqNjRYrEjkeu6KitX3is+5N5FcXmtN4/KagjflEd35DiaU000VXHU47thsqRwwPakk0tpLErpH77o6Pbbh3XD7qLkswFLM6GhrY9sceWzVLFX2rZtvWxQrOxdKCu5z5lc1G1l4ONqo9fGqqvWB65q5GvK7hinhlcicStjlY9yNRURV2aqrtuqdf40IHyPaTuY21n5bWZXKsyuVfaqwrNLJ4NhdJO5KiJJK5I0RHtTZqNT8H4uoyeT7ke03p+0+7iMYynZlrvrPmbauS8UD5IpXR8FiZ7U3fDEu+2/rfH1qVd3HPtpr/522f2i8BseSXL25eUTWtWW1Zkq1K2PWtVksSvrwK+Gsr1hhc7giVVVVXhRN91L4szsiY6SV7I440Vz5JHIxjWp41c5y7NT8annnkb/wCJmu/6rjf9CqQ7lRz2L1Jri5h9SZaHH6Z0pBHw0Jch3kzKZJ7YnPWVUc1zuBZJG7o7drYG8PDzr1A9SYLVGMvueyjkaN10X8I2ldr2XM2XZeNIXuVvX8Jtzxzy1YXk/gxkmT0rl8Vi8/g2pbxsmKyredsOhXd1d0POu5172cSIqJxcXCiqrVc1fTvJHqV+ZwWJykjWtlyWOrzztYmzEndGiToxF8TOdR+34tgJSeR+TK9rjVOR1JHU1cuMgwGZmqRQvxFK1xROntJGiO4GqiNbAide6rv4z1weJeQDlO9T+V1kzwJnMt37qKZ3HhaPfTIOas3k4Z14k4HO490T3+F3wATq3r7V+jM5iKOpr1XPYfUVlK0OSipx1LFWTjiicr2wsa1vA6aN6tdznEzi4XIrVRPUB41ympJ+UzVOJxzK/gWhpOyl+7VykrGZS2vOQvkZHT2RyPRsKM6lVGJM57lXdjD1tq7E17+Pu0bTnMq5CnYrWnsekbmwTxPjlc2RyKjFRjneuVOoDFua0w0MyVpstjIrDl2StLkascyr8CROkRyr/cb1rkVEVFRUVN0VOtFRfEqL76HkvKN5E6TH0JHUZOpUdNXTM337++5l+qknXv8AFft8HUbnuH9TxPn1Hg6N+XI4XD2obGAs2GyskbTtOnR0Ctna17WtWOPq4WpxLK5ETi2A9LJaiWRYkkjWVreJ0SPbzjW9XrlZvuieuTr/ABoa/F6nxtqZ9erkaNmxDvztetdrzTR7ePjijerm/wB6HlrVGjlzvKtlsdJZnr0Z9P1n5eOrIsUl6gyLH8VFZm+ujiksd68at2VWMe3dOLc2HdU8juEwOAXUGAqrh8np21Rlr2aU0yOe2S3DW2kSR7kc9HTNej/Zes2VVRVQD1Wai1qjGRWW05cjRjuP24acl2uyy7fxcMDn8a+NPe98qvlw5TrNHQKZ6ovM3cvjcatV6dSwS5SOFzpWfA+OOSVzfH65jTVcl/cz6bbhq/higmSyeRqx2MnesWbKyrZsMSWVsD2SN5trHvc1HoiOdw7uVVUC+m2olkWJJI1lYnE6JHtWRrerrczfdE9c3r/5kPueVkbXPe5rGMRXPe9yNa1qdaq5y9SJ+NTyR3O+BnxfKjqHHT2pbvg/Tiw1rVnZZ30udwb6LJpEROdkjqvhiV/v8173iT9eWnUeO1BraTTufyseM0zpmpHYtV5brabMrkJGV5mRPk40VyNbYanwtSvNwq1X8SB6dwmqsXee+KlkqFySLfnIqd6vYezbx8bIXqrf7zcHj7li0/ycMxM93TmVxWMzmFgdbxVjFZfaxLNWbzqV+BJ1WWSRGKxrvZo5zdl23R3ozkK1bJndOYjKzbc/ept75VreFrrML317DmtTqa1ZoZFRPeRUAmoAAAAAAAAAAAAAAAAAAAAAAAAAAAAAAAAAAAAAAAAAAAAAAAAAAAAAAAAAAAAAAAAAAAAAAAAAAr/Xnuk0l+dzf2W4sAr/AF57pNJfnc39luLAAAAAAAAAArzld9sNH/Ov9w5wsMrzld9sNH/Ov9w5wsMAAAAAAAAAAAAAAAAAAAAAAAAAAAAAAAAAAAAAAAAAAAAAAAAAAAAAAAAAAAAAAAAAAAAAAAAD+SeJfyL/AJHmP/Zw+5nI/OKf7Pxp6dU1WmdN4/FxOgxtGnj4ZJFlfDRqw1o3yq1rFkcyFrWuerWMTiXr2anwAUD3Kfuv5S/7cr/teZPv/aBe0WF+ddH9jyBfmH07j6c1qxUo1KtjJSJLenrVooZbcqOkeklmSNqOnfxSyru5VXeR3wqf3UenaGSjZFkaVS9FDK2aKK7WisxxzNa5rZWMmaqNkRr3ojk69nL8IFQ93NQln0VkFiY5/e1ijPKjGq5UiZZja9+ydfC1H8Sr7yIqr1ISvk05W9OZOHHVqeXpS3LdWFsdHnkbb5xsCOfGsDtno9qNfum38VSxJGI5Fa5Ec1yKjmuRFRyKmyoqL1Kip7xGsZyd4CrZZcq4PEVrcTnPjt1sXThsMe9HNc5sscSPa5Uc5FVF6+JfhA8w1Mdg9Ma5z9bV2NoTYzVth2SwmWyuOr260Mkk0s88CSzRO5hvHadG5erhWvCrtmvRxaObyvJPUhdPKzRD2MTdWVKWHuzL+JtepE+Vy/iRpcWo8DRyUC1shTrXq7lRy17leOxFxN9i7glaqI9PeXxoRjD8j2lakqTV9P4lkrHI5ki0IZHMcnWjo1kavA5PhbsBXXdnxwM5P7TKsUcNZi4ltaCGNsUcUCW6yRRxxMRGxsazhRGoiIiIiFzaI9rMd/Z1P9njMjPYSnkK7qt6pWuVZFar61uCOeByscjmK6KVqtVWuRFTq6lRDNrwsjY2ONrWMia1kbGNRrWMaiNa1rU6mtRERERPgA8v5vMR6O5SrmRyirBhtcY6KKHIOY7mK9yuyrGrZ3pvwtR8DuJdtmpcicuzWucmw7rblexE2m7+Lw96rlr2Vg4XMxU8V5lSlFIyW5atyV3OZBGkTFYnEu/FM1URURyp6A1Np6jk67quRp1rtZ6o5a9uBk0fE3fhejZEVGvTddnJ1puVNy2cn+HxGj9SNw+Kp0pLOLeyR1Oqxs0yI9itY6Rqc5I1F60aqqibgZOicRLkOTSrQgRFnyOilq10VdkWaxjHRRIq+8ivc0h/ci8q2Bq6VpY7I5SjjL2FfbrW6uTtxUpd++55mOjZZc1ZE5uRqLw7qjmuRfEWv3PDHN0np1rkVrm4OgjmuRUVFSuzdFRetFMrO8lWmr9p125gsXZtSO45bE1GFz5XfGm9btM7ZETd+/iAoDRWsYM5yrx3qjZO8U07PXoWZI3xtuwwrIj7cLXoirAthbDGu99Id/f2T9+V6zjIOU7GS6oSLwP4B2xEl9vFjY7vOScT5uc/A8SOV+6vT1qurOXbZqp6Ui0zjmWo7zKFNtyvXSrDcbUhbZirNRUbXjmRvGyBEVU4EXbr8R8at0pjMvClfKUKl+FjuNkdyvHMkb9lbxxq9FWN/CqpxN2XZVQDzv3WXKdgZNOXsTg5qWTu5CBqyeB1gtw0aME0UtmzZnrbxwM4WtiRFci8U7dk6iaUv+FK/wDd5N9hvLCwvJrp+lXsVKuFxkNa81rLkLaMCstMavE1ljiYqzsR3WiP3RF8RvW4amlTwelWulFay1O8UgjSr3qsfNLW734eb5jm1VvBttsu22wFWdxf7hsD+bv/AGpeIf3a8iU7WicxMjko4TVEMt6ZrHP5pnPVLG6tYiqv4OpN1Im6q1ETxnoTBYipQrx1KNaCnVg4uaq1IY4II+N7pH8EUSI1vFI97l2TrVyr75+uRow2YnwWIYrEEzeGWCeNksUjfivjkRWvb+JUAjuj+UbA5iZa+Ly1G9OyFZ3QVbDJJWwtcxjpHMReJrUdJGnX770Kc7jr201/87bP7ReLs01oXCYyZ1jG4jGUJ5IlifPQx9WrK6JzmPdGr4Y2uWNXRsXh8W7G/AhnYTT1Ci+xJSpVaj78yz3H1a0ULrMyq5yzTujaiyyKr3LxO3X1y/CBRHI3/wATNd/1XG/6FUhusMfidN8oGQt6oxlO3gNYxRyUclfx0V6CleY2PnGyLNG/md3pMjuFN+GWBy+tRyt9VUtP0ILVi9DSqw3byNbbuxVomWbCMREYk87Wo+VERrUTiVdtkP0zmHqX4H1rtWvcrS7c5XtwRzwv2604o5Wq1VRfxdQFOZLIclFeF08jdDOYxvEra9TDWpttt/W160b5XO/EjVUtnRMtCTG0JsXFFDjrVKCxQigrtrRNrWI2zw8FdrWpCiskReHZNt1I3juRnSdeRJotO4hJGuRzXOoQScLkXdHMbI1WsVF60VETbYncbEaiNaiI1qIjWoiIiIibIiIniTYD+nmbuJvbLXnzkX/XyJ6ZNTgNNY7HvsSUaNSm+/Lz1x9WtFC6zLu9ecndG1FlfvI9d3br69fhAoruzdKWK8VDWeIakeX0lYiknkY1d58er0RzZkZs6WKN7vXN3ROasWd12MzuitTvzvJrbyuHWRYslSp2Jmwu3lirJbh8IQSLEvji4Jo5UTq2imRercvjIU4rEMteeKOaCzE+GeCZjZIpYpWqySKSNyK18bmOVqtVNlRVQxNP6fo4+v3pRp1qdVFe5KtWCOGBFk63qkUaI1Fcvj6usCmOSnlC5P8AG6doy172FpMgx0LrNV7qyZPnmQt59Jqjd7Vm1ziO3VGvV69bVciopDe4+zUmR1bra/JVkpd/94zxVJ40imirSPmdUSWNF2bItdYXLt1buUvOpyP6WisJbj09iGTsekjHtx9fZkiLxNfHHw8DHo5EVFaiKipuhJsfgKNezYuQU6sFu/w9+W4a0Udizwew74mY1Hzbe9xKuwFCaU/4w5z5pQ//AFYck3due4XN/lxn2vQLUh09QZdkyTKVRuQnhSCbINrRJbkhTg2ikso3nHx/go/Wqu34NvwIfrncPUv15Kl6tXuVZ+HnatuGOeCTge2RnHFKitdwvY1ybp1K1F94Ch+UPRlnO8luNp0mLLbh07gblWFqbumdVp1ZJImInW6R0POo1E8blanvmx5Ke6O01ZwlWbJZODHXqVWOHJUraPjmbYgYjJXQRI1XWI3q1XNSPiXZyIqI5FRLmfGyjTVtWs3m6FRW1aVZiRt4K8W0NaCONuzG8LGsa1qdXUiJ7x5wyHLHo+Sbvy9ojJpmkcjljs6UqSX3Tt9irbEnrlVHImznKjk+D3gNJ3POon5flR1Bk3V5q0eR02stOKw3glWikuDipTujXrj56vHHNwr/AC3v+NXKZjcbp3lCny2pcbVu6d1fUiiiu3cdFer4/IRRV41R6SserH/7s9VVEReC1um/Nv2nHcy6ay9rM6g1nm6L8ZY1HzVbHY6ZFbPDQhbE1rpmO2c1VZXqM9c1jnLBI7ha1zd72zGLrXYH1rleC1XmThlr2oY54ZE8ez4pEVrk3+FAKbu3uSiGJZnt0KrGt4lbDWwk8u22/VBDG6VzvxI3ctLk/fjX4ylLh4YK+MtV2WaMNWq2pCkNnedHMrNY1IuNZFeqcKLu9d+tVI9S5F9JQyc7Hp3EI9F4kV1CCRrV33RWskarWqi/AnUTyGNrGtYxqNaxEa1rURrWtRNkRqJ1IiJ7wH0AAAAAAAAAAAAAAAAAAAAAAAAAAAAAAAAAAAAAAAAAAAAAAAAAAAAAAAAAAAAAAAAAAAAAAAAAAK/157pNJfnc39luLAK/157pNJfnc39luLAAAAAAAAAArzld9sNH/Ov9w5wsMrzld9sNH/Ov9w5wsMAAAAAAAAAAAAAAAAAAAAAAAAAAAAAAAAAAAAAAAAAAAAAAAAAAAAAAAAAAAAAAAAAAAAAAAAAAAAAAAAAAAAAAAAAAAAB+V2wyGOSWReGOCN8kjvisY1XOX+5EUCIzcolT1RR6ahhsWbveDr92aFIu9sfX8UXfT3SI9JJHLGjWMa5fw0arsi7pka05Q8Vh7mKoX7DobWorPeuMjbXmlSabna8PC58TFbEnHahTd6onrvxKVJ3FLJMjXz+q7bf981Vm5VaqvV/N0qicMELFXxNY+WaPq8aQR/Am2o7r73WcmfzhT7SwYHp0pfWHdP6Oxth9Z2Rfclhdwy+Dq0lmJrk8aJYTaGTb/kc74PGaLu59W3KmGpYbHuVlvV17weqtVWudVRGpPE1yex5ySatGvwskkT3y1OSLk5xumcbBj8fBG1zI2992+BEsXJ9k5yeeT2TlV2+zd9mps1NkREAwOS7ll07qVzosVkGSWY2q99KeN9a0jE23e2KZEWVibpu6PiRN03VCW6rz1XF0rOQuvWOrQhdPYkbG+RWRs9k5GRornfkRFU8+d2xoaOtQj1hikShmtPXKs0l2qxrJLEMszK6c8jU2lkZLLEvE9F3ZzjV3RU2mHKnqNMxyb38ojUZ4U0ylp8bV3SOSaBj5I0VfGjXq5u//ACgYyd1Zof8AnWZP/wALyPo5Zmgdc4jPV1tYi/BehYqNkWJXNkic5N2tngkRssDlRFVEe1FXYg/crY6vJovAc5BDJx0HI7nImO4kWebqdxJ1lUcklGrQ5Wc7SwjWRY7wS5b1Sps2pBOjKLpGMjZ6xnBaftwp7BZZWJsm6AegeVblBrabr1rt6Cy+lYvQU7Fuu2NzKPfDuFlm01z0clZF3RXNRyovCmyq5EJgxyKiKioqKiKiou6Ki9aKip40I1yraWjzWEymKkaipkaM0UauRHIyfh460qIv8Zk7Ynp+NiFfdxfrB+Y0hQWZ/HYxD5MXO731SqjFrb7ruru9JayKvvqiqBc4AAAAAAAAAAAAAAAAAAAAAAAAAAAAAAAAAAAAAAAAAAAAAAAAAAAAAAAAAAAAAAAAAAAAAAAAAAAAAAAAAAAAAAAAAAAACv8AXnuk0l+dzf2W4sAr/Xnuk0l+dzf2W4sAAAAAAAAACvOV32w0f86/3DnCwyvOV32w0f8AOv8AcOcLDAAAAAAAAAAAAAAAAAAAAAAAAAAAAAAAAAAAAAAAAAAAAAAAAAAAAAAAAAAAAAAAAAAAAAAAAAAAAAAAAAAAAAAAAAAAAR7lNryTYTMRQ7pLNh8hHCqePnH1Jms2/HxKhIQqb9S9aL40UCje4Wla7RGNRu28VjIsk/E5b9h6b/j4Hs/SRTuvvdZyZ/OFPtLBm27mGv6nM5qbRsqcEcdvw5guJXLz2OtoyF7WK7x81wVmLsvW9JviqSTl45Lchnc5o/JU5accGlcr35eZalmZLJF35jbHDWbHC9r38FOVNnuYm6t6+tVQIB3e0Lqr9IZ1WOfXwWcclhGJuv4V9S0z+9Ux8ida+NUPTtOzHNHHNE9skU8bJIpWKjmSRyNRzHtcnU5qtVFRfxmo17pSlnMdaxeRi52rej4JGovC9jkVHRyxP2XglY9GuavX1tTqVN0KK01oPlF0vH4PweSwmaxMKqlGPOssx2akaqqpEnMK31iIqIic45OrqaxOoCSd29m4aei8nHI5qSZOSpTrMcvXJI61FNIjU99Uggmf/wCA1maxMtHkmfVnarJodJNWWNybOjfLC2V0bk95zVfwqnwoVhya1LGsNXzVNeXVjyOmJVfQ0mlZsFCdWoyR8sb+NUsxbNjlVi8TpY3Ru43RNc09Rcsmm7GYwGWxdV0TbGToy14HWHOZE170REWRzGucjfyNUDzryH8g3hbS+LuN1Rqak6/Sc5KlXJbUYFWWVvDHWRqLzXVureJN916+s2Pcj81pjN5bRWQqVYcoz/e6WYhjcyTM1ERZWNe6RyqqsikV7WMXhRG2EVOKNzn3lyG6Ws4TT2LxVx0L7ONrLFM+s974Vdzsj0WN0jGuVNnJ42p75Cu6G5KMhlshg89gJqlXOaetJ+EuvlihsUt3S8zK+CJ8j0bJxNRnUist2N18QF0qv/oea/8AZ9rx4XNzsRWwWdTW3QIqKicPetNepF/E5qf+Es3uitZrg9MZG57C5Yrd5UIo3cb3ZC61YIWxboiyqxXOl223VsDur3j9O5y0O7TumsZjZU2sshWxe8Sqlu05Z5mKrep3Nq9IkX30hQCwwAAAAAAAAAAAAAAAAAAAAAAAAAAAAAAAAAAAAAAAAAAAAAAAAAAAAAAAAAAAAAAAAAAAAAAAAAAAAAAAAAAAAAAAAAAAAFf6890mkvzub+y3FgFf6890mkvzub+y3FgAAAAAAAAAV5yu+2Gj/nX+4c4WGV5yu+2Gj/nX+4c4WGAAAAAAAAAAAAAAAUx3QPLPPhLVLBYSj4W1Jmk3qU1VeZrRuVzWT2Ua5qu3Vr1RvExqNike97GtTi0Xqa5WODvr1R4Hn9uPwR4Pj7028fN9996c9xbdXj23/jbdYHoQFNdz9yzTZuzdweao+CtSYXfvykirzNiNqta+etxOcrURz2KreJ6K2WN7Xva5eG5QAB+GRnWOGWRqIroopHtRfEqtarkRdve3QD9wVt3N3KHZ1RgYstbggrSy2rMKxVuc5tGwP4EVOccrt1/KRXun9V5HG5LRUVG5NVjyupIat9kSoiWK7rFJropN0627PenV8ZQLzBX/AC9YLUORxbINNX4sbkEuxSPszTSQtWq2OZskfFHDKqqr3RLtwp7Hx9XXP2+JN/Ht1gf0Hy6RqKiKqIrupqKqIq/kT3z6AAHy16LuiKi7Lsuy77L8C/AoH0D4WVqKjVc1HL4mqqbr+RPGfYAAAAAAAAAAAAAAAAAAAAAAAAAAAAAAAAAAAAAAAAAAAAAAIbyWa0fmkzCvrtr+BNSZTCs4ZVk55mPkYxLDt2pwOfxqvCm+23jUmRUXcyew1b/3hal/14QLdAAAAAAAAAAGruaeozXK+QlqV5L1BsjKl18LFs12StcyRkUypxsa5r3oqIvWj3fCptAAAAA0eV0firdyDIWcdSnv00Yla/LVifagSJ7pI0isK3nGI17nOTZepXL8Km8AAAADWZvT9G86s+5Ur2nY+w2zTWxCyXvewxUVk8PGi8EzVRNnJ1obMAAAAAAAAACG8qmtH4VMMrK7bHhvUmLwr+KVY+ZZkHyMWw3Zq8bmcCesXbffxoTIqLunPYaR/wC8PTX+vMW6AAAAAAAAAAAAAAAAAAAAAAAAAAAAAAAAAAAAAAAAAAAAAAAfE8rY2Oe9zWMjar3ve5GtY1qKrnOcvU1qIiqqr8B5qx/KrqzWdy5FouOnjMLjplgfqLKwukksSojV/wB3rvY5GuVruNI3RuVGrGr3Rq9GAemAeZ9Vah5RtHxeE8nNjdVYeu5q5Dvaq2lfrQquzpUbBCxjY0VW+v4Zdk34kanrkvzQWq6Wbx1TKY+RZKt+LnI1ciI9ioqskilairwyska9jk3XZWL1qnWBvAAABV/L3yk2tOvwLa1eCfw9nK+Nm745z8FHMrUWSPm3J69N18e6FoAAUL3NursnkNSa+qXbs1mths1HBjoZVbw1YXXMuxY4uFqet4IIW9e/VGhOMBgtRR6ryt+1kIpdOWqMUeMxjZpFlrW2x0GySvhWBGNa58Vxd0kd/Cp1da8IWEAfLJGu32VF4V2XZUXZfgXbxKB9AH8e5ETdVRETxqq7J+lQP6BufMcjXdbXI5E99qov+QH0AAAAAAAAAAAAAAACv9ee6TSX53N/ZbiwCv8AXnuk0l+dzf2W4sAAAAAAAAACvOV32w0f86/3DnCwyvOV32w0f86/3DnCwwAAAAAAAAAAAAADy3yFxJf5T9aZCx66bFsWlVR/XzbEkhqo9iL7FeaqcO6e9M74T1IeT9a23aE5Q5M/bZJ6ntaQJXtW443PZTtcMSv5xGIqukSWuku226x2JeFHrGqHo71dYXvXv7wvje8+Dj777/rcxw/DznOcP93jA8+8tsSUOVLRt+v6yXKwJTtNb1c43jsVVe9E9kqxWUbuvvQM+A3fKPZkbyr6PiSR6RSYW+r4ke5I3KlXNKiuYi7OVNk8fwIRnQdt2uuUJuoarJPU/o2utWnbkjcxly1wzKzga9EVr1ksvm28bY4IOJGrIiG35fMhDiOUbReZvyNr451O9RfblXhhimfHcgRZZF9bHGjshAqudsjW8SqqIiqgXLy7Pc3S2pHNVWuZp7LOa5qqjmuShOqKip1oqL75WPItpuDOcmuLq5B9l7H1rU7nxWZIpnSQX7j2bzNXi23RN03606iSd1BrvG0dL5eJ9qGSzl8Vcp0akMrJZ53Wa74nSMiYquWGNj3SPf7FrWL19aIuP3J8Sv0Bh2NTd0lG81qfC5126iJ+lQKe7knkUwuc0zBfvOyKTyXLkbkq5OzWi4Y5OFu0UTkai7eNffJn3WtZsOS5OYWb8EGqakbOJeJ3CyfHNbxKvjXZE6z8e4W1hiq+lkpWchTq26OSuJYq27UNediSPa9j1imcjuBUcqcW227Hp42qiZXdfyNdleT1zVRzXasrK1zVRUci2ceqKip1Kip74H7/AO0DsyRaTidFI+N3humnFG9zHbLXu7pu1UXb8RMu6l5R5dMaanvVVal63LFRxz3tR7Y7E7XvWZWORWuWOGKZ6I5FRXMaioqKqEI/2hvuRi/tyn+z3TP7uzSlnJ6SWSqx0j8JegyUsbE4nOrRwWIJ3InwMZY51fgbE8CO4DkE0jYqtm1JmvDGatxNfeyE2oERY53NRXx10bLssTHKqIsnHvtv1IqNTa9zFqS1Sz2d0ZYybszVw8MV/B5GSZs83eMnM85Xkna5Uk5vvqu1E6uFzJUTZvC1uTyZaL5NdQY+C/SxeI/CxMdYqulVtipMrUWSCxEsvFG9rt038TkRFaqoqKs25MNM6Mo5GymnocWzJVqvN3fB0/PSQ15pGOSOdWSObGrnwMXhXZ3rN/EBRUGnsjneUfVmIjyVyhinR1Jss+lKsdiWCOvUSOjXlXfvZs0svE9Wp65sLmr1OVFm/KVoStoLSWpLulGWq1u7BQZNIs8liSGNlnmJLMKu9fG9kFyw7iRdm7I5NuFVHIx/xK13/Vsb/o1y9NW5vH0Kr58pPXrUnubBNNcc1tb8OvNNZM5/rGscruHd+zevrA828knIXoHO4ytZW5JmsjarxzZC2uYlS4lqSNr50lrRyIsDmvcqcMjVciIm6u9kvofk50pFhMbBjIbNu1DTWbmpr8yTWeCWeSZsb5UanE1iScDepNmsanvFN8oPIZyfWq02SZJVw3Czn2ZXFZJsEEDmevZLHDzi1tkVEXZjEVfEiouym07iLU+UyulY58rJLPJXv2atS3Yc58tmpEyFWvfI7rlVsz54uNd1XmevdUAvEAAAAAAAAAAAAAAAAAAAAAAAAAAAAAAAAAAAAAAAAAAAAAPNPI/ykMxM+q6rsLqPIK7Xmopu+MNg579VOKyxvNrPEuySpwbq3xojm/Celiou5k9hq3/vC1L/AK8IH69OEXyX1t9VLfnDpwi+S+tvqpb84tgAVP04RfJfW31Ut+cOnCL5L62+qlvzi2ABU/ThF8l9bfVS35w6cIvkvrb6qW/OLYAFT9OEXyX1t9VLfnDpwi+S+tvqpb84tgAVP04RfJfW31Ut+cOnCL5L62+qlvzi2ABU/ThF8l9bfVS35w6cIvkvrb6qW/OLYAFT9OEXyX1t9VLfnDpwi+S+tvqpb84tgAVP04RfJfW31Ut+cOnCL5L62+qlvzi2ABU/ThF8l9bfVS35w6cIvkvrb6qW/OLYAFT9OEXyX1t9VLfnDpwi+S+tvqpb84tgAVP04RfJfW31Ut+cOnCL5L62+qlvzi2ABU/ThF8l9bfVS35w6cIvkvrb6qW/OLYAHmjlh5SGZafSdVuF1Hj1brzTs3fGZwc9CqqNsvbzbZ5V2WZePdG+NUa5fePS5UXdOew0j/3h6a/15i3QAAAAAAAAAAAAAAAAAAAAAAAAAAAAAAAAAAAAAAAAAAAAACqe67yslPRWfli6nSVIqq7fyd63XpTf/wBKxJ+k/XuUMRDT0bgWQoiJYoNtyqnjdNce6xIrl99UWTh/EjUT3iUcrek0zuDymJVzWuyVKWKF70VWR2ETnK0jkTrVrZ2RuXbr9aUl3IfKfXqY9NJ56VmLzenJpajK+QkZAtmBZHSRNie/Zj5Y0erOBqrxMZG9quRVVA9HZOlFZgmrTsbJDahkgnieiK2SKVixyMci9StVrlTb8Z5q/wBnlPIzEZqg96yR43OvSJ268P4SCNr0YiqvCxXQ8Wye/Iq++WNy9ctmJ03jLMqXK1jJyQvZjsfBNHNM+w9qpFLKxjlWKsxfXOe7ZFRiom7la1dR3F3J7Y0/pmNLsb4buZsOyNivK1WyV2SRxRV4JGqiOZIkUTXua7ra6ZzV60A0X+z4syS6UsOlkkld4dtpxSvc92yVaOybuVV2/Eft3RNiRmtuTtjZHtZLevpIxr3Na9EdR2R7UXZyJ+M0vcE5evRxmXwFyeGvlMRnri2KkszWSKzmq9d0jGv2V7Wz15mLtvts3fbiQ1/LLrWjlOUTRVSjMy03DXpmWbVd7ZK6WrDolkqtlYqtfNEyGNXom/Dz7UXrRUQP73bWh6MmR03ectnn8zqCjjrXDakbGldOFn4GNF4YZtl/hE6y6OTvkZw2BuLeouyCzrBJBtbyVi1HwSOY534OVyojt429fj8ZXPdxzNrw6UvS+trUNW05LMuyqkbEa6VVXb/khkX/AMJeuF1RjLytbSyNG458fOMbUu17Cuj6vwjUieqqz1ydadXWgFA9yZ7reUz5wRft2cMrk7tSu5WtXRLJIsUeCoqyJXuWNqrWwSqrWKvCi7qvWie+vwmL3Jnut5TPnBF+3Zw/Tk4/4vaw/sGh+y4EDD5Yc5JqbWD9IOy78NgsJQbazssNqOpNkJpmQvZTSeRdlj5uzCnB1t/hlcjlazh1HKZyR6aweNs5rSOY8E5nB1pLkL6+bSdLkdZOemrSxSSu5zjZGuzE9a5dmua5F2Nfyh4DCY7lKty6sq1pMLq2hG/HXbqObWr3YY6kL0kmRyNjRHQSNcq+xS1XV3C1VUt7Ick/JzXgWzPj8FDXRvEtia22OHh8fFzjp0bt/eBhay1m7N8mVzMp+Cmvaekkl5lXNSO1Eqw2EiXfia1J4pNuvfZEIPyH8iUWp9PYvI6quX7yPpsZisbHbkr1KNOLeKGXhjXea5MjVldK5etJWt29aWLyt0sXX5O8tHhWQx4t2EsTUG1uLmVisuWxzkfH18L3yufv/wA5I+5p9yGnP7Gqf6aAUdy7RUpNVYHSudyljF6Tq6fifE1bXete/ahWSJjLtrZIkRG1404n7I3hVG8Cy7li6Y7nPSla1RyuEfcpy0LVezHPQyss0NpkMrJXVp+ddIklaRGcLmtVu6KTLX8OlMxMuFzS4u1agYkzKN6WOO3GyZv8NVVzmzNRUREV8S+8iKp5t5ZNJYzRGTwdzRl+evk8llq1WfT0ORdaiuVnq9E52J7nSrG6RWxbSOcirOit4XNVQPZ4AAAAAAAAAAAAAAAK/wBee6TSX53N/ZbiwCv9ee6TSX53N/ZbiwAAAAAAAAAK85XfbDR/zr/cOcLDK85XfbDR/wA6/wBw5wsMAAAAAAAAAAAAAAwc7h6l+vJUu1oLdaw3hlr2YmTRPRFRU4mPRUVUVEVF95URUKq/+GHQ/Pc94Ebvx8fN+EMlzPFvv/Bd88PDv/F24fe226i4wBhYLEVaFeOrSrQ1K1dvDDWrRMhijTdVXhjYiNTdVVVX31VVNdrrRuLztRaOWpQ3aznI9I5kcjo5Ea5qSwyxqkkEqNc9ONjmu2e5N9lU3wArPSfILpLFstNp4eFvhGrNUsyTT2rErq1iN0M8MctiVz4Gvje5q82rVVF8ZONKafp4qnDj8fA2tTqI5sFdjnubGj5HyuRHSOVy7ve5etffNoAK71NyH6TyViS1cwVGSxYe6SaaNsld0sj1Vz5JO9nsR8jnKqq5d1VVVVXdSQag0Lib641blNk64CaOfFq6SZvessSxLG9nA9OJU5mP2W/sfykkIvrLlAxGHtY2lkbja9nPWO9sdEsUz+el4o2bOdGxWwt45om8T1am8idfUuwZOu9G4zO1UpZaoy5VbM2dIZHysRJWNexr+KF7Xbo2R6eP+Mb/AG94ACp9SdzjovIWHWZ8JCyWVVWTvSzcpRuVV3VVgqTMiRyqq7qjUVdyXcn3J1hNPxvjw+Nr0UmRrZZI0e+eVGbqxJbEznSyoiudsjnLtupKgBocRo3GVMhdyteoyLIZZsbb1pHyq6dsSNbGjmuerG7IxvsUTxGXqjT1HKVZKWRqw3Kk/DzlewxHxuVjkcxdl8TkciKip1oqGzAFNw9zBodkqSphEVWu4kY/I5J8W++/XE+0rXN3/irun4i28Xj4KkMVarDFXr1o2xwV4I2xRRRtTZrI42IjWNRPeRDJAAAAAAAAAAAAAAAAAAAAAAAAAAAAAAAAAAAAAAAAAAAAAAAKi7mT2Grf+8PUv+vCW6fjVqRRcfNRxx89I6WTm2NZzkr/AGcj+FPXSLsm7l612A/YAAAAAAAAAAAAAAAAAAAAAAAAAAAAAAAFQ9057DSP/eHpr/XmLePxtVIpeDnY45OZkbLFzjGv5uVm/BIziT1sibrs5OtNz9gAAAAAAAAAAAAAAAAAAAAAAAAAAAAAAAAAAAAAAAAAAAAAAQvlF5KdPah4XZfF17crGo1tlOcgtIxqqrWd9VnsmWNFVV4FcreterrUmgArXQ3IRpPC2G26GGgZZjcjorFmWxckic32L4VuSvSF6fGYiL+MsoACt9f8helc7aW9k8THNbeiJLYhsWqj5uFEaiz96SsSZyNa1OJyK7ZqJvshtKPJTp2BcW6DFV4V06+STFc0ssfe0kyxrLLs16JNK9Yo93ycSrw9ak0AGv1Fg6eRrSU79WC5VnROdrWomTRP4XI5qqx6KnE1yI5F8aKiKmyoRfRPJHpzC21vYrFQUrTonwrNDJOv4KRzHPZwPkViIqsZ73vE4AEf0xorF4yzkLlGmyvZzk6WMlMx8rnWZkfNIj3o96tavHYmX1qInr1/EKGjMZBlLWbhqMZlMlAyvbuo+VXzQxtgYxjmK/m0RG1oE6mov4NPx74+leUDEZS/ksZRuNnu4CVIcjAkUzeZk4nxq1JHsRkvDJG9juBXcKt2XbdN5QBp9X6Wx2YrOp5OnXvVnqjuZsxo9GvRFRJI3eyikRFVEe1UVN16ytcf3MWh4JWytwbXuYu7WT38jPFv/wA0UtlWSJ+JyKhcQA1GR0xj7GOdiZKkPg2SslVaMbVhgSs1qNbCxsKt5uNGoiIjdtkQyNPYetj6telTiSCrSibDXha5zkjiYmzWI56q5URPhVTPAEE5ROR/TeoJUny2Khs2EY1iWWyT17HAzfga6atIx72puuyOVU6zF5P+RDS2BsJbxmIhitN35u1NLYtzRbtVqrA+3I9YHK1zmqrOFVRyp75YoAAAAAAAAAAAAAAAAAr/AF57pNJfnc39luLAK/157pNJfnc39luLAAAAAAAAAArzld9sNH/Ov9w5wsMrzld9sNH/ADr/AHDnCwwAAAAAAAAAAAAAAAAAAAAAAeUe7K9dq7k+Z8OVj/8AzZPGJ/8AY9XHlHuuV31xyeM/7Vpr/wCbL0U//RA9XAAAAAAAAAAAAAAAAAAAAAAAAAAAAAAAAAAAAAAAAAAAAAAAAAAAAAAAAFOZvlXyEN21Uhoxz96TSs3jikcvA2V8bFd+GTrVGfAXGec2e3mY/Ov/AGqweVtXNFOmFhhl2ovNvFnX8kg6Wsv/ADV/h5PSB0tZf+av8PJ6QfgCF1utpfd+7eb9+lrL/wA1f4eT0gdLWX/mr/DyekH4AdbrPd+7eb9+lrL/AM1f4eT0gdLWX/mr/DyekH4AdbrPd+7eb9+lrL/zV/h5PSB0tZf+av8ADyekH4AdbrPd+7eb9+lrL/zV/h5PSB0tZf8Amr/DyekH4AdbrPd+7eb9+lrL/wA1f4eT0g/juVvL7L/8p8Sdnk9IPxP47xL+QdbrPd+7eaV6515foPgbXppZSZj3PVsb38CtVqInVK3bfdf0Ec6Wsv8AzV/h5PSDb6x9lD/Qd/mhoTP9FcUvN6wmxtrarWqnTpmfztTDxu+CXe2s4rnT8X79LWX/AJq/w8npA6Wsv/NX+Hk9IPwBoOt1vb3fu3m/fpay/wDNX+Hk9IHS1l/5q/w8npB+AHW6z3fu3m/fpay/81f4eT0gdLWX/mr/AA8npB+AHW6z3fu3m/fpay/81f4eT0gdLWX/AJq/w8npB+AHW6z3fu3m/fpay/8ANX+Hk9IHS1l/5q/w8npB+AHW6z3fu3m/fpay/wDNX+Hk9IJfyUa3sZh1pJoY4e9eFEaxr2u4+J7Xo7ikcnVw/wCZCTYdzp/DZb+sO/15z3sLaq0q0Sq8WwyxullFVHz0rjABLZ4AAAAAAAAAAAAAAAAAAAAAAAAAAAAAAAAAAAAAAAAAAAAAAAAAAAAAeUe5I93PKIv/AGtc+2Lx6uPKPci+7flDX/ta39r3z1cAAAAAAAAAAAAAAAAAAAAAAAABX+vPdJpL87m/stxYBX+vPdJpL87m/stxYAAAAAAAAAFecrvtho/51/uHOFhlecrvtho/51/uHOFhgAAAAAAAAAAAAAAAAAAAAAA8m91Wiv5QuT9ifxb2Pk/uTMQuX/0jU9ZHlLujk4uU3QzPipVf+jIWF/8A0APVoAAAAAAAAAAAAAAAAAAAAAAAAAAAAAAAAAAAAAAAAAAAAAAAAAAAAAAAB5zZ7eZj86/9qsHow85s9vMx+df+1WCPeuzXGB98jdLcgArG6AAAAAAAAAAAP47xL+Q/p/HeJfyAb/WPsof6Dv8ANDQm+1j7KH+g7/NDQmY6GfZLDdP7SiXHsKf78gANOlgAAAAAAAAAAGw7nT+Gy39Yd/rzmvNh3On8Nlv6w7/XnJV0+uWf6Q93p3rjABYsaAAAAAAAAAAAAAAAAAAAAAAAAAAAAAAAAAAAAAAAAAAAAAAAAAAAAAPKPcg+7XlDX/tWz9rZA9XHlHuPfdnyhL/2rY+1ciergAAAAAAAAAAAAAAAAAAAAAAAAK/157pNJfnc39luLAK/157pNJfnc39luLAAAAAAAAAArzld9sNH/Ov9w5wsMrzld9sNH/Ov9w5wsMAAAAAAAAAAAAAAAAAAAAAAHlDl4fxcrGjI/wCTo1JP03Mov/8AjPV55Q5Y04uV/SSfFxVdf/LNmngerwAAAAAGJmb7ataxaejnMp15Z3tZsr3NhjdI5Go5UTiVGrtuqES5FeU2lqzHSZKhBbggiuSU1ZeZCyVZIooZXORIJZG8G07U6133a7q8W4TgAAAAAAAAAAAAAAAAAAAAAAAAAAAAAAAAAAAAAAAAAAAAAAAA85s9vMx+df8AtVg9GHnNnt5mPzr/ANqsEe9dmuMD75G6W5ABWN0AAAAAAAAAAAfx3iX8h/T+O8S/kA3+sfZQ/wBB3+aGhN9rH2UP9B3+aGhMx0M+yWG6f2lEuPYU/wB+QAGnSwAAAAAAAAAADYdzp/DZb+sO/wBec15sO50/hst/WHf685Kun1yz/SHu9O9cYALFjQAAAAAAAAAAAAAAAAAAAAAAAAAAAAAAAAAAAAAAAAAAAAAANXq/ORYzH3slO2R8OKo2bszIUasr4qsL53tjR7mtWRWsVE3VE3VOtANoCIckPKBU1Pi48tRisw15ppomx3GxMmR0D+ByqkMj27KqdXriXgAAB5R7jr3Y8oX9qzfamRPVx5R7jb3X8oX9qy/amSPVwAAAAAAAAAAAAAAAAAAAAAAAAFf6890mkvzub+y3FgFf6890mkvzub+y3FgAAAAAAAAAV5yu+2Gj/nX+4c4WGV5yu+2Gj/nX+4c4WGAAAAAAAAAAAAAAAAAAAAAADyjynrxcsemE+JiWf+keZf8A/csDuwtZ6g0/iaWVwckTIqmTiTLJJXjn468icMTH86i83XfNtG5zOF+8sfC5vWU7mtZUb/KdpjOtmbFj5dMrkHzSuREggjxmZnnSVU6kdFwyNcnvLG5APaAKG7lPlRzeq7Gfv2ooosJBcZBhmpC1k0a+ve6B72uXnXtrurOerurimTh2TdEvkAAANJyge1GU/su9+zSlE/7Oz3J2f7fufsmPL25QPajKf2Xe/ZpSif8AZ2e5Oz/b9z9kx4HpEAAAAAAAAAAAAAAAAAAAAAAAAAAAAAAAAAAAAAAAAAAAAAAAA85s9vMx+df+1WD0Yec2e3mY/Ov/AGqwR712a4wPvkbpbkAFY3QAAAAAAAAAAB/HeJfyH9P47xL+QDf6x9lD/Qd/mhoTfax9lD/Qd/mhoTMdDPslhun9pRLj2FP9+QAGnSwAAAAAAAAAADYdzp/DZb+sO/15zXmw7nT+Gy39Yd/rzkq6fXLP9Ie7071xgAsWNAAAAAAAAAAAAAAAAAAAAAAAAAAAAAAAAAAAAAAAAAAAAAAhfLz7ldS/NzMfZ9gmhC+Xn3K6l+bmY+z7AFc9wX7i6n9eyH7Q4vooXuC/cXU/r2Q/aHF9AADzxyycrmW01rXC17r4WaVzVdsLlWGJFjnWRYprL7LtpGOgkkqvcm/BzUq+tV3WgRjuM/dbygr/ANqv+08merjwtyW6/Zpm5yoZVeB08WSWDHxSdaTXp8llW12K3iRXsaqLI5EVF4IZNj1D3NWczOT01j8hnVY67kGyTxvZCyFX1JJFWpJJHEiMRz4tnpwonrXs369wLIAAAAAAAAAAAAAAAAAAAAAAABX+vPdJpL87m/stxYBX+vPdJpL87m/stxYAAAAAAAAAFecrvtho/wCdf7hzhYZXnK77YaP+df7hzhYYAAAAAAAAAAAAAAAAAAAAABqNaaer5bH3MbbbxV8lWlrTIm3E1sjVRHs38UjXbOavvK1F945WZbRuVrZ12nkbI/IwXnYqGNjnNR6zSOjbzar7GtK2ZX79SK2ZVXqVTrS5dutfe8e5X7tJ6Xm1BHn/APcn5yKHvdkzbrVd7BYUf3uknA6dInOjR6t4uHZPeTYNvyS6Kr6ew1DEV9lbQgRssqJss9l6rJZnXfrTjmc9yJ7yK1PEiEqAAAGJkcpWrIi2LEECO9is8zI9/wAnGqbga/lA9qMp/Zd79mlKJ/2dnuTs/wBv3P2THl3ayuQz4bKPhljmYuMvJxwyNkb/ANWl/jMVUKR/2dnuTs/2/c/ZMeB6RAAAAAAAAAAAAAAAAAAAAAAAAAAAAAAAAAAAAAAAAAAAAAAAAPObPbzMfnX/ALVYPRh5zZ7eZj86/wDarBHvXZrjA++RuluQAVjdAAAAAAAAAAAH8d4l/If0/jvEv5AN/rH2UP8AQd/mhoTfax9lD/Qd/mhoTMdDPslhun9pRLj2FP8AfkABp0sAAAAAAAAAAA2Hc6fw2W/rDv8AXnNebDudP4bLf1h3+vOSrp9cs/0h7vTvXGACxY0AAAAAAAAAAAAAAAAAAAAAAAAAAAAAAAAAAAAAAAAAAAAACF8vPuV1L83Mx9n2CaEL5efcrqX5uZj7PsAVz3BfuLqf17IftDi+ihe4L9xdT+vZD9ocX0AKm7q/k39Uum7VeFnHkMd/v+M2T1z54GO466dab89CskaIq7cbo1X2JZFjPUY5OakuVY5N9ubfZia/f4Fart0U2DXIqIqKioqIqKi7oqL1oqL76AcsO560LNqnUNTGPdK6rJN39l38bv8AqlZd5nvXi3516y8y1/WqOtovi3OpteFkbGxxtaxkbWsYxiI1rGNREa1rU6kaiIibJ8BC9Jcn+A07ZyWRpwRUZc3Nzt6eWy/m1dxyS8ESTvVlePnJZHcDNk6095rUSV47KVrO/e9iCfh8fMTMk2/LwKuwGYAAAAAAAAAAAAAAAAAAAAAAACv9ee6TSX53N/ZbiwCv9ee6TSX53N/ZbiwAAAAAAAAAK85XfbDR/wA6/wBw5wsMrzld9sNH/Ov9w5wsMAAAAAAAAAAAAAAAAAAAAAAqTlRy0ly9JjWveynRjidbbG5WLZnmTjZE9zevmWs2VUTxqqEZfhqit4O9oET3uGJjVT8bXNRHNd+NF3N7yi1FpZaWeT1tbLthdFMvUxlmFnNPhe7xNc5qNcm/Uvi8ZgO6kVV6kRN1VepERPfVfeQrLxNWv8VPeqq/9J0/8SvkizUySz4ueR8yV4W2aUsjuKTvdX82+F7l63qx+2y+PZyFkFV8j1N1i5ZySIve0dZKVaRfFO5ZOdmlj+NGita1F8S9exahPsZmaI1lnYTVNnGt82k11nPB2Ps22t45ImI2GNf480jkjiav4uJyL+RFKYZjWvcs1tUt2pfXTWLCJIvEvjSJruqKNPEiJt1IhbvKbh5L2MswwJvO1GTQNXxOlge2VrP/ABcKp/ehVOOuMnZxs3RUXhkjd1Pienso5G+NrkX9PjTqUjXuavh4Il+mqNGj5NPqaJ9Klfs0PwL0oW0ngjThhswrBIkjJIk9aruFVVHIiLuif3Yf+z6y9WDSthk1mCJ65625GSzMY7hWpQRF2cu+3Uv6DO13ZclG5BEiyWbFG02GFqbu25iTjlciexjY1HOVV6urY0XcFaVp3dL2Jp2vV7c5bYitlc1OFKtFU6k/G5SRh2pV20zFPk+rnNc0S9M+qTH9uqfrMXnD1SY/t1T9Zi841HR7jfiS+XeOj3G/El8u8t9TD81XCOaXtNv6pMf26p+sxecPVJj+3VP1mLzjUdHuN+JL5d46Pcb8SXy7xqYfmq4RzNpt/VJj+3VP1mLzh6pMf26p+sxecajo9xvxJfLvHR7jfiS+XeNTD81XCOZtNv6pMf26p+sxecPVJj+3VP1mLzjUdHuN+JL5d46Pcb8SXy7xqYfmq4RzNpt/VJj+3VP1mLzh6pMf26p+sxecajo9xvxJfLvHR7jfiS+XeNTD81XCOZtNv6pMf26p+sxecPVJj+3VP1mLzjUdHuN+JL5d46Pcb8SXy7xqYfmq4RzNpt/VJj+3VP1mLzh6pMf26p+sxecajo9xvxJfLvHR7jfiS+XeNTD81XCOZtNv6pMf26p+sxecPVJj+3VP1mLzjUdHuN+JL5d46Pcb8SXy7xqYfmq4RzNpt/VJj+3VP1mLzh6pMf26p+sxecajo9xvxJfLvHR7jfiS+XeNTD81XCOZtNv6pMf26p+sxecPVJj+3VP1mLzjUdHuN+JL5d46Pcb8SXy7xqYfmq4RzNpt/VJj+3VP1mLzh6pMf26p+sxecajo9xvxJfLvHR7jfiS+XeNTD81XCOZtNv6pMf26p+sxecPVJj+3VP1mLzjUdHuN+JL5d46Pcb8SXy7xqYfmq4RzNpt/VJj+3VP1mLzh6pMf26p+sxecajo9xvxJfLvHR7jfiS+XeNTD81XCOZtNv6pMf26p+sxecPVJj+3VP1mLzjUdHuN+JL5d46Pcb8SXy7xqYfmq4RzNpt/VJj+3VP1mLzh6pMf26p+sxecajo9xvxJfLvHR7jfiS+XeNTD81XCOZtNv6pMf26p+sxecPVJj+3VP1mLzjUdHuN+JL5d46Pcb8SXy7xqYfmq4RzNpt/VJj+3VP1mLzh6pMf26p+sxecajo9xvxJfLvHR7jfiS+XeNTD81XCOZtNv6pMf26p+sxecPVJj+3VP1mLzjUdHuN+JL5d46Pcb8SXy7xqYfmq4RzNpt/VJj+3VP1mLzigaNuKbN5hYpGSJzrl3jejk2W1Y2XqUufo9xvxJfLvKRwuKhq5rMNhRyJzit9c5XdTbNhE8ZBxCm6xY/+U1TPnELnAtbrkafCUnABQN4AAAAAAAAAAAfx3iX8h/T+O8S/kA3+sfZQ/0Hf5oaE32sfZQ/0Hf5oaEzHQz7JYbp/aUS49hT/fkABp0sAAAAAAAAAAA+u5/zFSGfLJLZgjXvl6bSTMau6WJ902VT5MDkL0lStWMs6Zsir3y9fWyub1usTqvi/GWGGxZTaT/rMxHkz3SPT1enR4rt9UmP7dU/WYvOHqkx/bqn6zF5xqOj3G/El8u8dHuN+JL5d5e6mH5quEc2L2m39UmP7dU/WYvOHqkx/bqn6zF5xqOj3G/El8u8dHuN+JL5d41MPzVcI5m02/qkx/bqn6zF5w9UmP7dU/WYvONR0e434kvl3jo9xvxJfLvGph+arhHM2m39UmP7dU/WYvOHqkx/bqn6zF5xqOj3G/El8u8dHuN+JL5d41MPzVcI5m02/qkx/bqn6zF5w9UmP7dU/WYvONR0e434kvl3jo9xvxJfLvGph+arhHM2m39UmP7dU/WYvOHqkx/bqn6zF5xqOj3G/El8u8dHuN+JL5d41MPzVcI5m02/qkx/bqn6zF5w9UmP7dU/WYvONR0e434kvl3jo9xvxJfLvGph+arhHM2m39UmP7dU/WYvOHqkx/bqn6zF5xqOj3G/El8u8dHuN+JL5d41MPzVcI5m02/qkx/bqn6zF5w9UmP7dU/WYvONR0e434kvl3jo9xvxJfLvGph+arhHM2m39UmP7dU/WYvOHqkx/bqn6zF5xqOj3G/El8u8dHuN+JL5d41MPzVcI5m02/qkx/bqn6zF5w9UmP7dU/WYvONR0e434kvl3jo9xvxJfLvGph+arhHM2m39UmP7dU/WYvOHqkx/bqn6zF5xqOj3G/El8u8dHuN+JL5d41MPzVcI5m02/qkx/bqn6zF5w9UmP7dU/WYvONR0e434kvl3jo9xvxJfLvGph+arhHM2m39UmP7dU/WYvOHqkx/bqn6zF5xqOj3G/El8u8dHuN+JL5d41MPzVcI5m02/qkx/bqn6zF5w9UmP7dU/WYvONR0e434kvl3jo9xvxJfLvGph+arhHM2m39UmP7dU/WYvOHqkx/bqn6zF5xqOj3G/El8u8dHuN+JL5d41MPzVcI5m02/qkx/bqn6zF5w9UmP7dU/WYvONR0e434kvl3jo9xvxJfLvGph+arhHM2m39UmP7dU/WYvOHqkx/bqn6zF5xqOj3G/El8u8dHuN+JL5d41MPzVcI5m02/qkx/bqn6zF5xDeXPP0X6X1Gxlys579PZZrGNsRq5znULCI1qI7dVVVRNjd9HuN+JL5d5EOWzQuPh0zqGVjJUfDp/KyMVZnqnEyjO5u6L403RDlVFx0Toqq07o5u7TQdwX7i6n9eyH7Q4nHK9nJmLWx1aR0L7zZJbM8a7SR1Yla1Wxr/Fe97kbv7yb+Mg/cF+4up/Xsh+0OJZyzUXRT1MnsqwRRSU7bkRV5lkr2yRTKifxOcbsq+9xIVVrMxROh8W01RZzq/NC48NUa3h72hVF8fHG17nfjc96K5y/jVTe6CzbsXbZWc9y464yZWxvcru9Z4o3Tfglcu6RvYx/rfeVDAY5HIjmqjmuRFa5qoqKi+JUVOpUPvTWL8K32Qs669Bk77c7etjZZIJIIYWu8SyfhHuVPeRv5Svu81f6RoVl2qr/0jQwJ5n5R/f8Ae2lWf19Wu/10Fau5d4msjX1qvVvC5XKm+6/p/j8a1jkmq7VLUS8UNiuiRua5PEkiM2SWNfErXb9Sr4j+YlHQotGdObtY9Eglid41bGnDHMz48bmI1eJOrrP3yFxkDON6+/sxidb5H+9HG3xuevwHxVVXr+bzrqr/ANPj81u6Bzi5HH17T2oyVyOjsMTxNnicscqJ+Liaq/3m+IxyX4eWljIIp04Z5XSWJ2fEksSOlVn5URyJ+VFJOW0adHxXdOnR8QAHXQAAAAAAAAAAAAAAAAAAV/rz3SaS/O5v7LcWAV/rz3SaS/O5v7LcWAAAAAAAAABXnK77YaP+df7hzhYZXnK77YaP+df7hzhYYAAAAAAAAAAAAAAAAAAAAABjZKhDZidDYiZNFImz45Wo5q/3L7/4yKx8mGFa5F70VzWqithfYnfCip1ptE5+2yfApMwcmIlyYifm+K8LI2tZG1rGMRGsYxqNa1qeJGtTqRPxH2AddCN5/Q2LvS8/PWRJ19lPC98Erv6bolTj/v3JIBo0uTET80JzelMfjsTllqVmRvkxd3nJlV0kz/8AdpPZSyKrtupOrfbqQqT/AGdnuTs/2/c/ZMeXtyge1GU/su9+zSlE/wCzs9ydn+37n7Jjx8nYjQ9IgAAAAAAAAAAAAAAAAAAAAAAAAAAAAAAAAAAAAAAAAAAAAAAAHnNnt5mPzr/2qwejDzmz28zH51/7VYI967NcYH3yN0tyACsboAAAAAAAAAAA/jvEv5D+n8d4l/IBv9Y+yh/oO/zQ0JvtY+yh/oO/zQ0JmOhn2Sw3T+0olx7Cn+/IADTpYAAAAAAAAAABsO50/hst/WHf685rzYdzp/DZb+sO/wBeclXT65Z/pD3eneuMAFixoAAAAAAAAAAAAAAAAAAAAAAAAAAAAAAAAAAAAAAAAAAAAAEL5efcrqX5uZj7PsE0IXy8+5XUvzczH2fYArnuC/cXU/r2Q/aHF8Sxte1WuajmvRWua5EVrmr1KiovUqKnvFD9wX7i6n9eyH7Q4voCHT8mWGe9Xd6qxHqqviinnjhcq+PeNj+Hr+BNiTYjG16kTYK0McELPYxxNRrfyrt416vGvWZYOREQ5ERHyaXUmlqGR4e+6zJXR/wcqbslZ/RlYqOROterfbrMTA6FxdKVJ4ayLO32M88kk8jf6DpXLwL+NNiSgaI+ZojTpAAddAAAAAAAAAAAAAAAAAAAAAFf6890mkvzub+y3FgFf6890mkvzub+y3FgAAAAAAAAAV5yu+2Gj/nX+4c4WGV5yu+2Gj/nX+4c4WGAAAAAAAAAAAAAAAAAAAAAAAAAAAAAAaTlA9qMp/Zd79mlKJ/2dnuTs/2/c/ZMeXtyge1GU/su9+zSlE/7Oz3J2f7fufsmPA9IgAAAAAAAAAAAAAAAAAAAAAAAAAAAAAAAAAAAAAAAAAAAAAAAHnNnt5mPzr/2qwejDzmz28zH51/7VYI967NcYH3yN0tyACsboAAAAAAAAAAA/jvEv5D+n8d4l/IBv9Y+yh/oO/zQ0JvtY+yh/oO/zQ0JmOhn2Sw3T+0olx7Cn+/IADTpYAAAAAAAAAABsO50/hst/WHf685rzYdzp/DZb+sO/wBeclXT65Z/pD3eneuMAFixoAAAAAAAAAAAAAAAAAAAAAAAAAAAAAAAAAAAAAAAAAAAAAEL5efcrqX5uZj7PsE0IXy8+5XUvzczH2fYArnuC/cXU/r2Q/aHF9FC9wX7i6n9eyH7Q4voAAAAAAAAAAAAAAAAAAAAAAAAAAAAAAr/AF57pNJfnc39luLAK/157pNJfnc39luLAAAAAAAAAArzld9sNH/Ov9w5wsMrzld9sNH/ADr/AHDnCwwAAAAAAAAAAAAAAAAAAAAAAAAAAAAADA1FQW3Tt1UcjFuVJ66SK3iRizRPjRyt3TiROLfbdPEQHubuS5+kcRNi33WX1myM1xs7Ky1ka2WCtFzasWV/EqLAq8W6ezRNurdbNAAAAAAAAAAAAAAAAAAAAAAAAAAAAAAAAAAAAAAAAAAAAAAAAAA85s9vMx+df+1WD0Yec2e3mY/Ov/arBHvXZrjA++RuluQAVjdAAAAAAAAAAAH8d4l/If0/jvEv5AN/rH2UP9B3+aGhN9rH2UP9B3+aGhMx0M+yWG6f2lEuPYU/35AAadLAAAAAAAAAAANh3On8Nlv6w7/XnNebDudP4bLf1h3+vOSrp9cs/wBIe7071xgAsWNAAAAAAAAAAAAAAAAAAAAAAAAAAAAAAAAAAAAAAAAAAAAAA0mv8EuUxOTxiSpCuWxtyik6s5xIlt15IEkViOTjRvOb7bpvt40N2AK/5AOTt2lsJDiH223VgsWJu+WwLXRyTyLJw82sj9tt9t9ywAAAAAAAAAAAAAAAAAAAAAAAAAAAAAAACv8AXnuk0l+dzf2W4sAr/Xnuk0l+dzf2W4sAAAAAAAAACvOV32w0f86/3DnCwyvOV32w0f8AOv8AcOcLDAAAAAAAAAAAAAAAAAEM5W+UWnpqrUt3YbU8d/JV8bG2m2Jz2zWWTPY96TSsRIkSFyKqKq+uTqXr2mZU3dQaEyGoMbjKuNbC6WlqCjkJknmSJEr14rTZFaqovE/ilZs38a/ABJrvKLTi1JX0w6Gyt65i3ZNlhrYu9GwNkniVjnLJziS8Vd3UjFTZU6/gj/Lry5YvR8lKPI1b9hcnHO+FaEdd6NSu6Jr0k5+ePZV51u22/iU/HLaDyEnKBQ1G1sXg2rpt+OlcsqJMll092RESLbdWcM0fXv76/AV73VFGK1rLQNWwxssFye9Xnicm7ZIpnVY5GKnwKxyp/eB6J0tm4MlRp5Cq5XVslVhtV3OTZ3NTxtkYj2/xXojtlT3lRU94r7l05c8RpB9KLIQ3bEuSZNJHHQjrvdHHCsbeOVJ54+FrnSKjdt9+bf4tiMdx3kJqdbMaTuPV1vRWVmrxOciosuOtSSTVJk3Xra5yTOREX1rXxJ1dRR3Le71Qw8oOqF9dUwi4zTOEf1K3aHL0XXpWKnvOVyuavxb7kA9ht1g2XT/h+rXllZLg/C9WnIqMmka6l35DXesSSIyVyK1i8PHsq9XF7/4cjmsJs9haeVnoPxkt1bCPoSyOkfDzFqau3d74o3LxNiR/WxPZp4/Gse0NlJaPJ9jrsHBz+P0RVtQc41XR87XwzJY+NqKiuZxMTdEVOr30Mvub9aXNQ6Zx2XvpC21eW4kra0bo4U5i9ZrM4WPe5U9ZC3frXr3AsUHlXkW5YNb6woSx4ytiatmpael7NXYJ2UYYXxx97Valdkkj7F5XJM9znesa1Y0VN3IpKtC8pGpsXqerpfVrMfY8N15JsRl8Wx8Ucj4myvdFM16NTdWxK3ZGtVrlZ7Nr0cgWDyt8oNjBz4SKDGSZFM7lI6Ez45Xx95RyPiatl6Mgk42pzirsqsT1vjJ+VJ3QnKJkMDZ0xFRbXVmfz0GPud8RPkVIJJIWuWFWyN4JNnu613TxdR8d1lyjZDS+CiyWMbWdYfk69VyW4nyx81LDae7ZrJGKj+KJnXv8PV1gW8CgbOU5SctWXL4lmFxNOZnfGMw2RjklydisqcUS3ZdnQwWJWbOSNrm8PONa5WqiuNVyectmotW0YKuAoUamYqsd6or2TSwmNxzkkdHCyrC1FlnsTtZLIkblVIubc1yu9kB6TB5+0Zyi6nxOp6emdWJj7bM9BLJiMvjI3QsWWJsj3QzMejUXdI+DZGorXSR9bmu3SR8vPKNkMHltH0qTayw6mzjKF/viJ73pC6zQi3gc2RqRycNmXrVHdfD1dXWFvA/j12RV+BFKj7k7lGyGqMDJksk2s2wzJ2KrUqRPij5qKGs9u7XyPVX8Ur+vf4OoC3QeYtCcsGr9Q3M5h8TVxbbeIy1iF2VuxzR0aOPjmkhgR8Ub3yWshK6KXhRERiJC5VTr9b9W+WPU2kstHi9XQVcrFlassuGu4KB7JZ7bN2x0liVE3c+VYovYetdPGu7mquwemwp5z15muU/G0LGeeunEr0In3LWAhjnmlhpxoskqPtO4eemjiRXPVkjUXgerd+pq3NyW6wgz+Gx+YrtVkeTrJIsSu4lhma50ViFX7Jx83PHIzi2Tfg32TxAQqry+YmTS02rUq5FMfWspXfXWOt34r1sxVeJrEsc1w8czV63ouyL+QtPGW22IIZ2oqNswxytR23EjZGI9EdsqpvsvvKeZsdyJZ1nJtb0u5lXwrYvtnjalpqwc2mQq2VVZttkXm4n9W3j2PSenqz4adSGRER8FWCKREXdEfHE1rkRffTdFAzgAAAAAAAAAAAAAAAAAAAAAAAAAAAAAAADzmz28zH51/wC1WD0Yec2e3mY/Ov8A2qwR712a4wPvkbpbkAFY3QAAAAAAAAAAB/HeJfyH9P47xL+QDf6x9lD/AEHf5oaE32sfZQ/0Hf5oaEzHQz7JYbp/aUS49hT/AH5AAadLAAAAAAAAAAANh3On8Nlv6w7/AF5zXmw7nT+Gy39Yd/rzkq6fXLP9Ie7071xgAsWNAAAAAAAAAAAAAAAAAAAAAAAAAAAAAAh/K/yg1NMYuTLXobM9eGaGF0dNsTpuKZ3A1USaRjeFF8friYFVd1Toa/qLTk+MxrYnWpbdWVqTypEzghk437vVF69gJDm+UenUz2I09JDadb1DXs2KszGxLWjZVhmnkSdzpEka5WwOROFrutU8Rp+XXlnxuj20X5GtesJlXWGw94R138C1kgV/Oc/PHtvz7dtt/Yrvt1b6/WGgcja1rpfOxNi7wwVDIQXXOmRJUks1LcMaRxbbvTjmZuv41+AgXdnwskzfJ5HI1r45dScEkb03a9jreIa5rk99qoqp/eBf2hNTVszjaWVpq7vbJ1o7ESScKSM409dFKjHK1JWPRzHIiqiOY7rUiHLpyz4rR8dN+Rjtzvyb5mwQUWQvl4YGsWWV6TTRtSNFkjb491V/i6l2hPcmzuxNvUmi53LxaZyb7WL43Irn4rILz0O3vqrVcyRy/Gu7bqVhyz/9I8jrvMqiSUNEYJ2CxiuRVYuQlk/36ePf1qSM3txqqeNssK79SAetNB6lhzGMpZSuyWODJ1mWIY7CMSVrJE3RJEjc5qO/Iqm7K37mtXJo3T6tTicmGrq1u+27uBdk397dSHto8qttnPrd0tinuTijx7YLNjh3TdI7E7mSIjkXqV0bnJ76AXwCneQnlPyd/I5PTmo6lenn8Gxs7lpuctW9SerEbagRznK3bnYFXr6+fb1MVHNbj8s3KZltK5jH2rsVefSOTe2ratQ15O/cXacmyPmc2RWy1125xNmbqiSt9k1nGF1EU5XdWTYPC3crXovyUtFIFZQjkfG+fnbMMDka9kUjkVrZVf1MX2HveNILy98rs+Nfi8Rp2OvktQ6klhWhA5Vmrw03ru67PzTk3hc1r+F3EjUayV6rtGqLu+WvVWU09pG5lGyVJ8rja1NZJXVnpTkmkt1oJ1bXSXjbFtLJwor1VPW7quy7hM9E5h+RxmOvyQOqyZLH1LclR7lc6u+zBHM6BznNarnMV6t3VrfY+JPEbcrp2tLnqI9UW0Pf/qRTMcPNu7377XFpc25vj4uZ53+Lxb7dW/vlW8mOv9eavxNa3im4fFMjSWO5k8hXncl222Z+zMdVa6RGVY4liY6STfikR/DtwqgHpcHmTSnLnqVtvIaUvYqpa1hVsxQUFrufFi5oJYlnfkLz994q0UHNzet4XSJPGxGsdufWuNf660dJSyWoX4bK4O3ciq30xVeeOeisqPdxxK9rVVqIxytc/iRyt4F4Fe1wHpkFcd0bre1gNMX8zjuYfYqd5LB3wx0sLm2Ltau5XNY9qu/BzOVNlTr2JZoHJy3cTi7s/Bz1/GUrU/NtVrOdsVopZOBqqqtZxPXZFVdk99QN2CpOT3lEyF/WOpsDO2ulHAQVH03RxPbOrp44Xv56RZFa9N5HbbNT3iJ8oXLLn6es5dM4zH1cgtnGQvxsUiPi5u5K1kj7F6zznVRihbYkc1jeJ3C1qKnFugehweZ9da717pBamVz78LlcJPbir5GLFQTxT0ue4vXQula1Vam3rXP4kcqI1UZxI4kM2c15qCJcnp12GxOJmRZMRHlY55b+Sr7rzdqdEjdHUhmajXsZtxI16b+8oF7kIwnKXSt5bO4eOG02xpWKCW5I9sSQytsQrOxK7myq5yo1Nl42t6/hND3NnKfY1JQtpkKzKeXwV6TH5atEv4NJo99pY2q5ysaqtkarVcuzoX7LtsYejuT7JVdTazysrYe9NS1qUeOVsyLI51eqsL+dZt+DTjXqAm3JNrurqTFV8vSisQ17b52Rx22xtmRYJnwP4mxSPaiK6NVTZy9WxKys+5h0Xe0/pmjisi2JturLcdIkMqSx7T25pmbPRE39ZI0swAAAAAAAAAAAAAAAACv9ee6TSX53N/ZbiwCv9ee6TSX53N/ZbiwAAAAAAAAAK85XfbDR/wA6/wBw5wsMrzld9sNH/Ov9w5wsMAAAAAAAAAAAAAAAAAAAB5t7pT3dcnX9es/61M9JFZ8pvJa/M57TeabdbXTS08kzqq1llW1zj4X8KSpK3mdki234XeyAqLuo58hpbUDdTYivLL6pMDew9/vdjnc3eihTvC6/hReKRu1fbdPY0npum45U9E+p/kgmxzm8NhsGLsXkXbi78tZejPYa5U9lwOfzSL8WJp6pITy5aFXUuBvYVtlKa5BaqpadCs6R973ILX8Ej2cXFzPD7JNuLfr22AjGG/4Zwf8Ad9H9goYfcR+4XC/0sn9rXicU9FOj0uzTqWWq+PTqYVLvMrwq5Mf3l3xzHHvtv6/g4/xb++flyG6EXTWBpYV1pLi0FtKtpsCwJJ3xbntfwSyP4eHnuH2S78O/VvsBUf8As7GImk7KoiIrs/bVyonWqpUoIir8PUiJ/cZHdF+7rk6X3+/Mgn929P8A91J/3OPJc/SOIlxb7rb6y5Ca4k7ay1kaksNeLm1jWWTdUWBV4t09knV1df3yk8mLsvntN5pLra6aVnsSurLWWVbXPrD61JUlbzO3NePhd7L8QFe92T/17Qnzvqf61Y/L/aH+5KD+3af7NeLH5aeTF2op8BM262omnMxFknNdWWbvnmnxP5lFSVvNb82qcWzvH4j47o3kvfq7ER4tl1tBY8hDcWd1ZbO6RRWI+bSNJY9lVZkXi3/ir1dfUFkxNRGtRE2RGoiIniRETZEPOvcPMRItWqiIi+q26m6J7yNbsn5E3X9J6ManV+QrfkL5MXaZZl2uutueG8xPkkVtZYOZ55ETmVRZX85tt7Lq/IBXndKe7bk4/tG8n/58f/7qfn3Xvrc9ycPXqZHqyHjcvib/AL7il6197qa5f7lLH5TeTF2Zzmmsw262umlLM87qy1llW0kzqy8KSpK3mduY8fC72X4uvJ5d+S+tqvGJQmnkqT1rDLWPvwpxPq2mNc1r1ZxN5yNWvcit4m+8qKitRUCc37DIopZZHIyOGJ8kj3Ls1rGNVznOVfEiIir/AHHnj/Z5e5GX+3Ln7PSNrS5JdWX420NSavW7h0RG2qWOx8NOzkoWqipXt3mNbKyFyJwvRqqr2q5FXdeJJd3OfJg/SWIfi33W31ffmtpO2stZESaOCPm1jWV+6osKrxb/AMbxdXWFf9xWxOd1o7ZOJdX3EV23WqNc9URV+BFc79KmP3VTEdq/k0RURU8N2F6/hbbw7mr/AHORF/uLL5EeTJ2nHZtzrjbfh/MT5NEbXWDmEmVV5ld5X85tv7L1v5D8+VfkufnMzpjKtutrJpK9JadXdWWZbaSS05FjSRJW8wqJUVN9nfwni6usJRyoNRcHmUVN0XDZFFRetFRac26KVv3D3uGw/wCcyX2pcLZ1VjFu0LtNHpGt+lZrJKreNI1nhfEj1ZunEice+26b7eNCM8hWg3aZwVPDOtJcWi6y7vlsCwI/vi1NZ25pZH8O3O8Psl34dwJwAAAAAAAAAAAAAAAAAAAAAAAAAAAAAAAAAAB5zZ7eZj86/wDarB6MKHzWhc74Ru2qkLEZbnlVFe6s7iZz8r2ORFnRW7o/fZU3PG3omujRCxwq8Wd3vEV2k6IfqDF9R+qf5KH9FX0geo/VP8lD+ir6QQerWng1Xtu55vRlAxfUfqn+Sh/RV9IHqP1T/JQ/oq+kDq1p4Htu55vRlAxfUfqn+Sh/RV9IHqP1T/JQ/oq+kDq1p4Htu55vRlAxfUfqn+Sh/RV9IHqP1T/JQ/oq+kDq1p4Htu55vRlAxfUfqn+Sh/RV9IHqP1T/ACUP6KvpA6taeB7bueb0ZR/HeJfyGN6j9U/yUP6KvpB/HaP1Tsu0UO+3V1VfSB1a08D23c83olOsfZQ/0Hf5oaE33KBp3MzvrrQjYrWMekvHzK+uVW8O3HK33uL4SL+o/VP8lD+ir6QZzojcLxY4PY0WtE01Rp0xPwmNqfxPxeF2xe62VlFFVXxhlAxfUfqn+Sh/RV9IHqP1T/JQ/oq+kGj6taeD39t3PN6MoGL6j9U/yUP6KvpA9R+qf5KH9FX0gdWtPA9t3PN6MoGL6j9U/wAlD+ir6QPUfqn+Sh/RV9IHVrTwPbdzzejKBi+o/VP8lD+ir6QPUfqn+Sh/RV9IHVrTwPbdzzejKBi+o/VP8lD+ir6QPUfqn+Sh/RV9IHVrTwPbdzzejKNh3On8Nlv6w7/XnNL6j9U/yUP6KvpBMeRTS1/Gvurdi4FtK17XI+JUc5XyPeiNjkdw7cSeP4SRd7KqirTKoxjEbC82MU2c6Z0rMABMZsAAAAAAAAAAAAAAAAAAAAAAAAAAAAAAAAPNPdj+33Jz852/tmIPSxWPLPyVv1DkNN3m3m1E0rk+/wB0Tqqzra2npTJE16Ss5nqqKm+zv4ROrq6wrbup5b2m85itZYus+y+WhewmSgia5ySK+CWbHPka1qqrGzIr3L/+6xN98xmaMfheSXJRTo7v7J4yXKZJ0iKkrrV58UiJNxKrllZBzETlXr3iU9QEX5V9KLnMLkcQ2dKy5SssCWHRLKkW7mu4ubR7eP2Pi4k8YEA5MdSphuTahleb55cXplLLIVcrUlkihc6ONzkRVa1z+FFXZdkVV6yI8muiNUapxlXOZbWeVoeF4++q2OwHN0Ya1eRzlhYskfXIvBw+yRVTxK567qXBpXk+gr6Zg01ck78rsxS4yzK1iwc/E+N0T3NajnLE5Wu6lRyqi7LuVVpfkX1phoVxeH1pHBh2Pf3qlrDQWblSJ73PVkSy7oq+uXxPam+6tazcCKcjeI8HcqeRorlr+YkqabdHPdyk/P2eN7qE3MLJ77GNkZsnvKqp40Lk7qXU2IxumMiuZhZbhvwrVr49zka+3af66BsbvHEsb2JNzqdcfM8SbuRqLo+Sruf4dP6hdnIMlNZSbFyVLUduN8tu3cnljns5GxcdMvFJJIxVVvB76daqiqu2zfJE/J6qragy99lynholTC4RtRWQ1Z+JjktTSumck8vG1Xr6xu7mQde0SIoUL3HtH1OajdjdTU5q2bzWJqOwV25Lxt70SLd2Oj4v4CfhY1nDv1LUdH631qPvPuy/cPnvzNP7Spm45euSmtqqjDEs7qORx07bOKy0LFdPSmRzFfw8L2OWN6MbuiObs5kbvGxD75RdBXc7pafA3MjD37cr1YrGVZRVI5H17ME7pu80mThdI2HZUR+yOeqp1JwgRh//AAq//lyn2Ahl9xmxE0PgdkRN4rqrt8K5K6qr+VVUlDtCO9SfqZ76Ti9TaYTv7mF23TH94988xx77fx+Dj/Fv75+3Irop2ncFQwz7Lba41s7e+mwrAkiS2p7Cfglkfw7JMjfZLvw79W+yBUWm2IvLDmF2TdNJxKi7eJeLFt3/AC7KqG37vBP+hV78VzH/ALXGS7F8mDodZXdVrda5t/EMxqY9Kyo6PhWovPLY51Ud/wBWX1vAns/H1deZy+cnrtUYSfDttpSWxNXl75dAthG8xK2Xh5pJGb78O2/F1bgQHusUVeTa5412p4NV/J3/AI7dS0ORyRr9OYB7V3a/A4pzVT30WjAqGXmdJ1r2Hkw11FmrWcelKwrfWOc1Ikj5yPffgkRUR7V69lRPHsUxpXka1pi4G4mjrZsWFiVWV+PDwTZCvXVzlWKGWXdWLwu2RePZuycKN8QGPyIWY5eUrXjo3Ne1sNGNXNXdEkhZBDKzq/jNkY9qp7ytU+sW1F5Ybu6ex0kxU/EvFUTdP7lVP7yW8i3IfFpjMZXI1r0livl61eFlewx77LJIuB01ie26Ve+JZZUkkd6xqbyrtsibG3qcmDo9ZT6r79arbGITGpj+9lRzdlhXnu+Od2X+C9jwfxvH1ARju6E/6EZT8U+O2+kK6f8A3LV5P2I3E4trURrWYui1rUTZERK0SIiIniTY0HLxoB2p8FawzbSUluSVn98ugWdGd72I59uaSRnFvze3sk23JbgKK1alWsrketSrBAsiN4UesMTY+JG7rwovDvtuvjA899yJ7o+Ur51Sft+ZPSJWfI9yWvwGT1PkHXm2m6tyq5BkDaqwrU3sXp1idIsrkn6rbU4uFn8Gq7deyWYAAAAAAAAAAAAAAAAAAAFf6890mkvzub+y3FgFf6890mkvzub+y3FgAAAAAAAAAV5yu+2Gj/nX+4c4WGV5yu+2Gj/nX+4c4WGAAAAAAAAAAAAAAAAABRVewupOUCaNyq7GcnFWNzI9/wAHNncixdp3NRdn8zA2Vjd03Y+Jyp7I2HdJ8pOQxi4zB4BjH6g1VOsFGSVqOjpQtVrZLkjHNVqqiu6uJFaiRyuVHIzhcFygoaHufb74kmta51a7KObxOs1smsNJsy9f4OlsqtgRy+wSREVPgP15Bdf5iPM5LR2ppGWcriIktY/KxxpEmToO4NnvYjUbzzWyxLu3rX8IjvXROc8L0BVPLBoTUOVsulpartYTGRUkR9HH1Gd8yzN550krbySMlh4mrEibK7bgVU23NV3FOauZDSVazft2rth92811m7ZlszOaydUY1ZZnOcrUTqRN+oC6wAAAAAHmLum9L6pp43OZ71ZZCGtTkSbHYjGQ94JFDNcihiilu1pWyS8Mcvvt3VW9aqXhyMW5bGm9PTzyyTT2dP4maeeaR0kssslCu+SWWR6q6SRz3K5XKqqqqqqBLQDz/wB1xYvuvaOx9LK5LFNzmcdStT4q7NUlWKVarN1WJ6JIreNyojt0RVX4QPQAKTwvITdrWa9h2uNYWG1bEMzq1jLyvgnSKRr1hmYrvXxPRvCqe+jlLJ13ksrUjhmxmOiybWS/79UW4lW26vttxUVkbzMs6L67glfGjkbsjkVd0CRg858mfK3ayN7UtbB07WTvTZpsteHJyvpUsRV8H0azlvSScT4mtuQXE73rse5zo5FThR3GbHun89kKeR0Iyvcs0+/9UVIL8VK3PFFZidPTSSCZI1b3xB656cL02VHL1dagX2CqO6V5T59OUKkOOhbazeobbcfhqz9lasz1Y107mqqcbWOliajd9lfPHv1bkaxnIHlbMLbGZ1vqh2VlbxzOxOT7yoQSuTdY69ZI12javVu3m+LbfhZvsgX4CgeSbWuaw+pH6L1NbTJPs1Vt6ezixpFLdgY2RzobLUVd5UZDN1qquR0D0Vz0cxTTcukWQyPKDgMDBnM1iKWSwM806YbJz1FWWuuUmbJzbHc2r15hjVcrVVWoib9SbB6XB5X5YcTqLQVWDP47VGXzNOvdgiyWK1HZ79bNFMvCixTuTii9ciNVGIipx8SL1Ki+kctj6uYxstaxGslPMUXRzRr61ywWotlRFTrY9Gv3RydaKiKniA24Ka7lHUVmTH3sBkJVlyWiMjLiJ5Xbo6xUjc9KFlWr1o10THsb490gRd1VVUuUAAAAAAAAAAAAAAAAAAAAAAAAAAAAAAAAAAAAAAAAADz33at7Jsg03UxWTuYufMahhoOsUbdiqu1lnNt51a72ufG1zkdwqvvE07l/Vs+W05V79c9cnhpJsRl2zSLLOl3Hu5lzp5HKrnzvi5mRzlVd3SO618YFoA8Wcueu83a1SlvHZS/TwuH1Ph9McxSv2YK922vPWsi6WKGRrHuje1YXcSLu1Yuv3j2RmMnXpwS2rc8VatWYsk9ixI2KKJieNz3vVGtTxeP4QMsFTYnuj9FWrTacWcgSV7+bY+etcrV3P32276sQNhRN/E5XIi+8qlrTStY1z3ua1jGq573ORrWtam7nOcvUjURFXdQPsFWY/uh9Gz3kx0WcrrYfLzTHOhtMqvk32Rrbr4Urqir1I7j4V6tlUi3cWKveeqd9+rXGXTr/ADVMC/AVj3OOJxFPH5FmGycmUrzZ69NZmlbwLBdfHW5+q1OBvrWI2Nff/hF6zE1F3R2jKFh9Wxm41mherJUrVL1pjHNVWuastaB8auRUVFRFVU2AtkGp0lqWhlqsd7G24blWbdGT138TeJvsmOT2UcibpuxyIqb9aEfzvKxp2iuSS3la0DsC+CPJMkSVHwyWWPkgiaxGcViV7IpHIyJHu2Y7q6gJsCCcmvK/pzUckkOHycdqeBiySVnxT1p+bRWosjYrUbHSRormormoqIrmou26E7AAAAAAAAAAAAAAAAAAAAAAAAAAAAAAAAAAAAAAAB/HOREVVVERE3VV6kRE8aqvvIB/QUX3Ns66gyOd1nMjnMv2n4fT6PRU5jDUXIqvjRU3Ys868b0XrR8TveMTlZ1tmsxqRui9M2kxr61VLeoc4kSSy0oHtjcyCs1VRElVk0PWio5XTsRHMRj1Av8ABQWT5A8rWhdYw2t9UNysTeOF2WyfflCeVqb83YrLH1xuXq3dznDvvwv22WT9zVynz6joWosjC2rm9P23Y/M1m7I1JmK5rZ2sRV4GvWOVqt32R8Em3VsBawKVznIZcyFq1au6z1Q1LFqeWtUxl7vCrUhkle+GuyH8Ij+bjc1nH1K7g32TxJo+RTL5vD6uyGjcllJs7TZikyuNyFxVfersWWJnMWZFVXP351ybucv8HGreFHq1A9DAAACC645QVxmd05he9Oe9VT8k3vrvjm+9PB8EU+/M807n+PnNvZM24d+snQAAinKlg8tkKLa+Gy/gW0tmN0t9Kkdt3e6MkSSJkUmyI5z1jXiRUVOBevrAlYPMXIfHmMdyiZbB39QZTNQVdNd9ot+zNzHfE0+KdzkdNZXRQq1JpGpw9aI53X1qenQAB5F5CNC5bVNPJZCxrPVlN1fPZCjHBTzVlIUig5l7FRJHqqL+GVNk6tmoB66BDuSrRU2DrTV5szlc06exzzbGatOtTxJzbGczG9yrwxbt4tvhcpVXLzyn3sTUihzdWXFO9UGLkp5TF2ZLVG9Qr5KvYtROdG1livZSkyXjhkZwvRruFzuLhQPQwIloLP5TIvnsWcWmNxr2RrjG2bLX5OdF3V89qtCiw1InNVnCznHPThXiRN9krbuMs7ev4/PPvXLd19fVd+vA+7amsuigZBUVkMbpnOVkSK5yo1OpOJfhAvYHmXFZrN8oeUyLcbl7WC0lg7S00t4mRI8hl7LNlc6K01eKGHhVr/g4JYkVr1cqsyNfcnuotJUps5p3U2ZyaYqN1m/htR2vCMFqrF6+dYl4Wc09saOcqNRHORq7PRURHB6SBV1/XrMzoTI57HvlrOs6aytiJ0UrmT07cFOy2RrJmcLmyxWInIkjdl9Yjk23QqTkE5NMnqHTmOzM+ttY17eQbZc6OLOTPrMdBds1mbRyKrntVsLVVFd1qq+8B6sBRPcy6zzMmR1FpnO2m5G1pWxClfKJG2OS1WmWRG881vVxo1sTkVd3fhXIqu4d1/vdBWV07m9P6uiXm68llmA1G1F2ZLjraukrWZfeTvaZsj0d41VY27onUoXqAAAAAAAAAAAAAAACv9ee6TSX53N/ZbiwCv8AXnuk0l+dzf2W4sAAAAAAAAACvOV32w0f86/3DnCwyvOV32w0f86/3DnCwwAAAAAAAAAAAAAAAAPP/ceJxT63mf8Aw82tciky/wAbZr1c1F/EjpJf/U1nKCiM5XtLSTovNS6esxVHqvrEsJHmuNPHtxcL2p+WRhueTqH1P6+1Bi5N2VdbQR53FOXqjfbgWRMnA1f41hXSyzK1N9mRNVdt03lXdBcljtR16dija8H5zAWe+8LkVTdkcyKxzoZ0RqrzD3RxruiKrVjauzk4mOC0DzXq9rpOWLAcx1966YnW/wAK9SMdHmWsR6J/zzVl6/jMMrVXK1rzCY2xYyWi68646HisZajmYn01RvU613hG19lsKKqOciuThajlVWoiqmz7lbSTZktazu5Gvl8vq2NqvsVGq2tRqs4U8HwI9EkR7HRRsejkTh72jbt61znhd2W/6vP+Yl/+hxR3cFe4up/X8h+0KTHlaymrop2Q6fw+OyNSaovfE92+laSOdz5WOjYzjTiYkfNu328blKu7njA6901ToYWTB4x+PbkUfbuuykbrEVezYa6zIyJkmz3MjV6onv8ACnUoHpohXKlr92CSqqYXOZjv1Zk2wOPW6tfmUiXewiPbzaP5z1vw82/4CagCG8l2u1zsdiRcPmsP3pIxnN52gtKSfja53HA1Xu42Jw7KvvKqEyAAqPuxvcRnvzFX7QqEp5Cfcrpr5t4b7OrFYd0PjtcZutl8HRwuNfirywx18g/JMitOjjkgscSwvk2avORubsqJ1dZvuQddZU48bicxhsdVxmKxUNNL1fINnsPdTrxQQK6Jr1ROPm912TqAuQr/AJX+SjH6odjlyE92FmHmmnhbQnbA98krY2+vlVjntRqR7+sVq7r4z61J6pvVNie8uZ9TXe03hni7257vjm7fM83x/huHj7134Orx/jMflXzOraVmtLp/EUszSWByXas91lK22dH+sfBNNI2Pm+BV3RUcu6Jtt74UnyzcmEmgqC6n0plMjUTF2azr+JuW32cfchsWGV144l2V6rJOziRyr1KrmqxzUVb9zGBp6pxuNlsS3WULkEN2WhWtPrxX4LVZHNq31iRJJqyJKjlja5qOVqcW6btWm9cYDXet2RYnJ4urpbBOsQzZJ/hGDIXbbIXo9sUPMKrU2e1rkRzWJxNaquVE4V9JY6nHXhirwtRkVaKOGFieJscTEYxqfiRrUT+4CoMFyJ0lmzbpajcY6TMpZ09kMLJHSu0K3grH1P8AdZayJzMfOwTbwPRY3eNzF3I13XDOHJ8njeJzuHV1NvG9UVztrFFOJyoiIrl8Z6LKd7ojQmSzOQ0jPQhZLFgdRV7+Qc+eOJY60c9V7nNSRyLI7hjevC3der8YES7o9zY9dcnctjZK7rtyKNXex75dJVbH4/E7nZK239x6PK95euTGHVOMSos7qd2lO23ishHxcdW3Gio13rFRyxuRVRURUVPWuTrahX83KDyh4ajI3JaRrZmTHV3ulzGLzMEUVhkTd1n8H806w6ThTic1jWbrvwsanUgYfL6qScoXJ/FB/wBZjfelmRq+vSt6127vf4OCG3+hxpeX1mXdymaaTBvox5NdO2e9n5RJlpon/wA3WbnUgRZN1h5xE2T2St943/ctYZc9Zl17k79XIZPIRupVKlJr21sHAzqfT4JfXss8Lk33/iyvcjpOe41k+rdBZKxyg4HUEUUa4zF4e1UtTLOxsjZpY8m1jWwqvE9N7MPWnxl+ACm+W6tqN1zC1+UOzUTStnIsbNLpnjjrJc2dzDclJaa2eOFWc6qqzxNR6t9c1FT2JG1qNRGoiNRERqNREajUTqRETqRNiMcrOjINQ4a/iLGyNv11bFKqb8xYYqSVp0ROteCZrHbJ40RU8Sml5B4cxQ07VrajZHBcw8Lq8lhLMU0ctOu1OYsPla5eFzYdmOV3Wqwud/GAgHJO5zOU3XUUafgZKWGlk28XPJSqKm/495p//U9BFFdyhSkvSai1bMxzfVhmHuxyParXeCqDpIKblavW1zuJ7V+HmWr76F6gAAAAAAAAAAAAAAAAAAAAAAAAAAAPiaVrGue9zWMY1XPe9Ua1rUTdXOcvUiInvqfZ5V5V5reudbLo1liWtp/T0LLed73dwPuSsSGRWcfWjkSSevE1rk9a5s8mzla3YLzTle0rzvM+qPCc5xcO3hWptxeLbj5zh336vGTWKRr2texyOa9qOa5qo5rmuTdHNVOpUVOvcrReQHRvenefqfx/Nc3zfOc2/vvbbbfv7i754/8Am49/xlScjs9vROtH6Jlsy2cFnIH3dPrYdxPqPck0vBxdSNa51e1G5rU2c9sT0Rqveih6ktWI4mq+V7I2N63Pke1jUT8bnLshqcBq7E5CWWChlMdemrJvYhpX61mWFOLg3ljhkc6NOLq9cidfURXlf5HMPqqbHy5fvp7cQlpIYK9hIIpO+1rrIsytZziqnezNuFzfZO336tqY7l3TtPE691njqEXMU6NWvHXhWSSXgYr4XqnOTOc93rnKvWq+MD1WAAAAA8+92J/1jQ/z1x3/ANbDR631Y3QWpNTTuRrKOrMHJmsYx68MTtQU/wABLVaiJ7Od8rZnu/52eP3rA7o3Q+RzM2l34+FkrcLqWnkLqvmji4KsL2q97UkcnOO2RfWt3Um+vOT/AA2e718L0Ib3g6V0tVJlkTm3v4OP+DenGx3Ns3a7dq8KbouwHlrlA0e/C6R0HXnR3f1zWONyOTfKu8z7t5k88qTOVVV8rGujiVyqu/M+NSb92XkJJcpo/DPq27+Pv5Czdv4uijefyPg9K7oqyI97Wuj2km4mqqdTkVFRWopOO6b0Pkc5DgGY6JkrsXqWjkLSPmji4KsDJkke1ZHJxu3e31qdfWZvdA8mtjPQ4+3jLLKWc03cS9h7cqKsKybsWWtPsiqkMixRbrs7+DRFRUVUAhevNTLlsPZw8vJ9qJK09SSGvGlHGtZVk5tWwSwNbY2hfG/hcitTq4f7iEcqOUzeP5JqNTJMnp5GzPBhraTqscsdNluykKSu3VUY+nVgY5d/XNkdv7LYsyvr3lC4UgfoSs6ynrH3WamospKvi55sC8UrYl8fBxq7b8ZJeUDQVvU+lJMTmX1a+UuV45JJqKSOqV78UiTRLCkqq90COajF3VVVrn7LvsoEhx3J9h4MM3AtoV1xba3ezqromq2RvDs6WRdt3WHO3esvs1equ336yne4JopVw+erI9ZEqauyECSu61kSGrQj41X4V4d/7zP0/neUlKseHm0/QbcjiSqurJMzWfT2a3m0vuxrGrPLLwojuBOHd67qxrfWptu5J5OsjpnGZSjkkTjsZ+1arS87HI6eq6vUhjnk5t7uCR6wvVWqu6AafuJpGswmde9yNYzV2Yc9zlRGta2KmrnOVepEREVdz503ys3L8MrtHaFlyOISeaJt6a9jsFWtua9ySy14LDFWeNz914l2XdXI5GuRzU3nc9cnV7G4POYzKxpA7M5rLTx8zNHKvel6CCJknFGqo1/rZPWr1pshD+SyLXulcezTkWmKeYr0Jp2Y7NR5yrSgWCed86PsVpUWZ3C+Z6qiI12yIiI5U4nB+Xcmz2otUa1pTYtmDar8XddgobcNyCjYmhesiwzVkSFUla9j1RiIiIrG/wAQ/Xke0zTt8o2uL9iBk0+JkxjaSytR7YX26zucmY13U2ZG10aj/GiSSIi+uU3vc+8nOfxOotS5PNvhsLnYqEjbtd7EilsIxZLMUMCuWWKvC+RYWK9EVWQtXZN9jf8AJTorIUNU6yylqJrKeoJsW7HSNmje6RKsE8c3FG1yui2c9vskTfcCJ8u1OOprvQF+uxkVq/aydO3MxqNfPAkNdjGSuT2aNbZnRN9/Z/iPQhU3LLonI5LUOjMhUiZJV09kLs+Re6aON0Uc7ajY1Yx6osu/NSdTd9tvxlsgAAANdqHPUcdCtnIXKtGu1Uati7ZirxI53U1vOTORvEq+JN91MnJ3Y60E1iZ3BDVhkmmevibHExZHuX8jWqv9x5O5D9IdIt69qzU7ZLGPguSVMDhXSyNqwxx8D3Oc1ipzjGo6Jq7bJI9sqvRURGgejdOcpWnsjMlehm8XbsO9hXr5Cu+Z+3j4IkfxP/uRSWFN8pXc36YytGSGrjquIutYq0shjYUrvgnam8bpY4tm2IuJE4mu69lXhc12zk1Xcb8oN/J0cjhszI+XL6Qud42p5XK+WaHjmjiWaRf4WZkleeJX9auSONzlVzlVQtHUnKJgMbIsOQzWLpzN8cFnIVopk/GsLn8aJ/cZuldXYrLNe/GZKjkGxbJKtK3DYWNV8SSJE5VjVf8Am2Ipa5DtKz3beRs4etbuZKd09ma6sthHSPXdeGKV6xRp+JrU/vKG5bNGY/S2r9HWdLs7wv5jJJBexlN8ixz01nqRPe6BXKkED43zsciIjV4Fcmzo3OA9fgAAAAAAAAAAAAAAAAAAAAAAAAAARblfsSw6ez0sG/PwYLKSQcKbrzrKM7o9kTxrxohKT8rldk0ckUjUdHPG+ORi+JzHtVrmr+JUVUAqbuNYo2aHwSR9aOiuPcv/AO0fkbjpN/yPVyf3EO7n9Uj5QeUGKfqsySUpYUcvrlq7vdunv8HBNU/S03XcgvfjquY0naXa3o7L2Io0dsjpsdee63StonwSq+Z+3vI9m+yrsZvLByYZN2Zras0tPXgzlSDva7Su8TaeWqIiIkUzmdbZUaiN3XZF4Il4mLGigXQecO5uVsmueUSWv11m3qkUit9gtlsltsidXUrkkZY3/Kvwmt5WuW/WuMoxttaWg086/PHSTPW8tFk6VKWZeFZ3w0YnLGjW8T0V6vT1i+tk24VtzufeTirpvENggs+ELGSk7/yGUV3H39Yna1edY7idvBwcPD1rvurt1V6qoZnKno/L5Vay4vUdrApXZOk6VaUNrvlZOa5tz1le1WcHA/2Pj51fFsVByDQS6a1de09mWx5DL5+l4Sq6q5yw+3kq0bnp3rbZZkfzCsSCXZsSo3asxF4vWuJG7WfKRTV0E2kMdlXNc5I7+PzlepBI3iXgc6C09ZGu4dt/Yoq77IniT+ck3J3n7Wo5NYar70r3mUVoYrD0XpKyjXcr+JZp2q5r5NpJvYueirYkXdqI1qBexCOVfUGoKDaq4HAszjpnTJba/J1sf3s1iR805FsKnO8aukTZPFwfjJuAPHPKdrDWMuqdGz29IxVb9OTMrisemdpTJkVlqwNso6wx3BV5qNGO9f7Li2TxF3aC1lrS3ka9fLaPixePl53vnItz1G26DhgkfFtXhdxyccrY4+rxc5v4kP15T9G372qdG5StE19PT8mZdkZHSxsdGlyrBFBwxuVHS7vY7fhRdi0wABHeUS5l4KEkmEp17+QSSJIqtudK8LmK9Elc6VXJsrWbqnX17AUtpH/jBnvmjD/qYU9FnlLGad5RINU3dVN0/iXWcli2Y19RcvHzLI2OqO5xrkk4lf8A7o3qXq9ep6HqWMxLhHSTV4auckx06pWhkZLBDf5uTmGNkeqseznOb63Lt8IEmKCTuUNOKx/HazSzyTzWWWo8ikToJ514nyV4mRc1GviTra5dmpuqljcmSaj8AM8Ocx6oObucas5jmOc52bvPfvb8Hwc3zO+349+srz1dcpcTFhk0TQsWUbwpdrZ+pFTe7b+ESvLMsrWb/wAVz0X8YGN3NWdytDPah0Xlb8uVTTzK9vGZCyrn2VqWGxSczPI9yufsy1WVEVV4V51qKrUYjd/r3kYrTRc/BE/KZWzm8VZtZDMzss2W46vl4bk9OB8yJHXpsgSRqQRNajkaiO4lXdXc98meTxtvLag1DYhsZ7Ur4++GVeuvTrRfwdaNyoiuXZImr40RII0RXbK5bkAi2idCUsNLZdjn2YKltGq3E98OfjakiPkfJLRrPRe9FkV/rmMVI/WJs1vXvS3cXse7B6rbF/CP1Tl2xbePjWpURm3/AItj0kU93K+hclgaWZhycLIZMhqO5froyaOZHVpoazI3KsTlRruKN/rV6+oCN/7P2aF2j2tiVvORZW82yieNJV5l7eL8fMvh/u2Lz1TNFHRuyTq1IIqVl86v24UibC90iu36uHhRdyj7vJ7qLS2Zv5bSMNbKYzPSrYymmbdpKb47aq5yz4+zIvNRbue/qcuyI7h4XojFZDOU7X+pdQX6ejMlQg0TFqNnDPct3fCMl2DiRHUqViuxtdJZHes5tzkV27WK5vGjXhkdzvFK3kkzayb8MmN1O6Df+SSpYYu34udZL/6mu7navyiLpDGuwNjTLcfzV3vKK8y74QTa9b5xHuSNa/OLOknDuvDsrd/fPQmb0NHW0ne09iIka31P3sdQike1vHLNTmiY6WRURON80nE5+ydb3KYfc1aTu4PS2LxWRYyO5RS4k7I5WysTnshanj2kZ1O3jlYvV4t1T3gK77imKm6LO2J5Lb9UzZLg1WzIc2k0VmN8/Ntgji9Yyor3WNlTZVcx6exYxE3/AHcEbV0NmVdtux+Nczf3neFaTV2/Hwud/wCp95zk/wAnR1vU1Lhoo5KWYq946oqrOyFdmc2yG7G2RyJJI1GwuVG9e1Z6eOVTA7rRj8v4B0hXcvPany0c17g61hxGP/D251XxMVH80reLqcsTkAt/Q00kmLxsku/Oy46m+Xfx846vG5+/4+JVNwfMUbWNa1qI1rGo1rU8SNRNkRPxIiH0AAAAAAAAAAAAAAV/rz3SaS/O5v7LcWAV/rz3SaS/O5v7LcWAAAAAAAAABXnK77YaP+df7hzhYZXnK77YaP8AnX+4c4WGAAAAAAAAAAAAAAAABrMxp+lcmqWLNaKaxi5nTUZ3t/C1pHtRr3RPTrbxNREVPEqIm+5swAP49qKioqIqOTZUVN0VF8aKi+NDR6P0fjMOyWLF0oKEVmXnZoarObidLtw85zSLwNdwoiboidTWp/FTbegAAAAAAAAAAAAAAAAAAAAAA0OmdG4vGTWp8fRr05ck/nLjqrOaSeTic5HyMavCrkc9+y7dXG74VN8AAMTM42C5XmqWo2zVrcTobEL9+CWJ6cL43oi9bHNVUVPfRVQywBjYuhDVghrVomQV6sTIa8ETUZHFFE1GRxsanU1rWoiIn4jJAAAAAAAAAAAAAAAAAAAAAAAAAAAAAeXO54clblJ13UnXaxac61AjupVrrZZKiN/Fzduuv5E/EeoyhuX3knysuVqat0pLFFn8axI7FOdWshykDWq1I3OcqM51Y1dEqPVqOYrNnxrG1VC+Ty7y6yJY5UNE1YOuxVg74n4fGkKS25lRV/N1pl2+B34zI1j3R2o8RQknyOhL9SSDhjltyW3uxrJHuSNj3Tx1lTgV6tRG8XWrmt4t1RTb9zByf2J7M2uc1drZDLajgRafeTkkq0akiNbzUbvFzyMjZDwpvzaRuarnOc5QPQZ5q5C/+Jeu/wAzW/zrlucr2p85jIqr8JgVzsk8sjbETbrKne7GtarJOKRqo/icqpt+I85aIk13jNSZzULdEzTO1GyNrqa5Wqxtfm1j60mTdZd+D4rfGB7GBotAZS9dxta1kqC4u9O2RbGOWZs611bLIxic61ER/FG1j+pP4+3vG9AAAAAAAAAAAAAAAAAAAAAAAAAifLLSls6b1BXhar5rOBysMLE8b5JKM7GMT8auVE/vKw7gq7FLoupHGrVfTvX4bCIvW2V1hbDUd8C8zPCv5FQvs8vroDU+hcxeyGlKUeb09mZeetae59texTl9eqd6q7qRjVdwtexHqrHIx7F5tsgHqA8t9yS5LGsuUK5An+6uyjmNe32Ej35C+5HoviXiSN7/AP8AifjNfymd0LqSZ9bB19Py6XvagXvetlM/adDHFxrzb3wOWuxiParmokm7uFXt9burS7+585LK2ksOzHRP5+xNItnIW9lbz9l7WsXgaq7shYxjWNb/AMquXrc4DZ8q+gGahrQVn5LK4xK1jn0mw1tKs0n4N8fNyPVjuKL1++23jah5t1TpqTkvzFHUHPtzeLzNxtHIWctXZNmaSuicrpa15qcb1WCOVdkREVIeBU9cjksjJ8q2tsbYswW9C2MjCy1YbTu4m61UmqpM9Kr3wRsnVj3Q8Cu3c3r39a32KRDP6Y1dyg5DGNzeHZpzTeJtstz07FhJ7l17d0cxERrX8ax7xormRtY2eR34RURoHqsAAAAAAAAAAAAAAAAAAAAAAAAAAAABq26epJfXKJWiTIOq95uutbtM+qkiSpA9yezjR6I7Zd+tE+A2gAGFnsRVv1pqd2CK1VtM4J688bZIpG7ouzmu6l2VEVF8aKiKnWh8adwtXHVoqdKFterXRWw149+biarlcrWIqrwt3VepOpNzYAAAAAAAAAAAAAAAAAAAAAAAGj1jo/F5iKOHKUa16OvJzsLbMSP5uTZW8bF8bV2VU6lN4APmNiNRGpvs1ERN1Vy7Im3W5yqqr+NT6AAGrbp2il9cp3tF4QdVSmt1W7z96o/ne92vX2MXOeu4U26+s2gAAAAAAAAAAAAAAAAAr/Xnuk0l+dzf2W4sAr/Xnuk0l+dzf2W4sAAAAAAAAACvOV32w0f86/3DnCwyvOV32w0f86/3DnCwwAAAAAAAAAAAAAAAAAAAAAAAAAAAAAAAAAAAAAAAAAAAAAAAAAAAAAAAAAAAAAAAAAAAAHyx7V32VF4V4XbKi7L49l28S7KnV+MD6AAAAAAfLZGqqtRyK5u3E1FTdN/FunjTc+gAAAxspQhtQy1rMUc9e1E+GeCZiPilikarXxyMcmzmK1VRUX4SLclvJvjdNQTVcUtqOrYl57vWxbksQxSL7J0CS7uj4k2Rdl6+FFXr6yZAAAAAAAAAAAfn3xHw8fGzg+PxJw+Pb2W+3j6gP0AAAHyx7Xb8Kouyqi7Ki7Ki7Ki7e+in0AAAAH8c5ERVVURETdVVdkRE8aqvvIGORURUVFRURUVF3RUXxKi++gH9AAAAAAfMUjXIjmuRzV8Tmqiou3V1Kn4z6AAACLcpugMVqOl3hlqyWIEkbLG5rljmhlb4nwyt9dG5W7tXbxo5UU3GmsQyhUgpxyzzR1I0iiktzLPOsbepjZJneukVG7N4nbrs1N1Ves2IAAAAAAAAAA+ZZGtTic5GtTxucqIib9Sda/jDpGoqNVyI52/C1VTd23j2T39gPoA/kj0aiucqNRqbqqqiIifCqr4kA/oCKAAAAAAAAAAAAAAAAAAAAAAAAAAAAAAAAAAAAAAAAAAAAAAAAAAAAAAAAAAAAAAAAAAAAr/Xnuk0l+dzf2W4sAr/AF57pNJfnc39luLAAAAAAAAAArzld9sNH/Ov9w5wsMrzld9sNH/Ov9w5wsMAAAAAAAAAAAAAAAAAAAAAAAAAAAAAAAAAAAAAAAAAAAAAAAAAAAAAAAAAAAAAAAAAAAI9yl6kTD4bJ5RWo9cXj7Nlkbl2SSSKJzoo1VPEjpOBu/8AzEW5MNEK3SlehPZtQXMzV79y+QpzcxefkckqW787LDW7tlWSRzEft1Na1E8SGw7oHCy5HS2epwNV80+KsrDG1N3SSxMWZkbU+M50aNT+kfzE6+owaUq6inc9KUeErXpUiaj5URa8arC1iLssvOLzeyqiI7xqiIqgVJy9aEx+lcZHmNPTZCnqBMnj4Mc1cvkba5ixPZjjfRsVrdh7LTXwrM9WoiL+C+DqJP3VliFrdMNuPuMpT6iazIMxz7yWJK6Y+498bUx3+8yJxNauzOv1u/vEC5PuVXTOQyDNUamzdFuQjY9uCwjUszV8BVk24lVUh4ZsrK1G85Kni2RqbIiI30BrblGwuEdTTK3mUm5Rsy1Jp45eYfzKROe107WKyF3DKxUR6t4tnbb7KBCeQp2kJLlt2AtXnZCtAsNyjk7+bWzDC98MnGtDMSbo3ibF+Fazq4+HiTiVF0Wh9Y6jXVGsYW4ixdjr28MxlKTP12w42N2O3R1dku8aJYT8O5I0TZXbO3VNz4r52nqXXeCyGn1W1U01j8rFnsxBE9tSZtyu1lHHNsuaiWZGTPWbgTdESRyou6O2/XG6zxunNZav8OWUxrM8uBs4qe1HKkF2KtjEq2eZlY1Wq6OdEarV2XrTx9YHxX1Fbpa61ZDj8XNlb1zG6edFAyeKpWjjgr2klmt3ZkVsDd5Ymo1rXvcrupqo1ytsnks18uZdkatmhLi8rgbMdfJ42aeKzzSzxJPWmhsQ7Nnryxqqtds1fWu6ttlWN8n+3q61n8KY7TP7Pe//ANH48mCp6utfbbdUGlN9veXwdaXr/HsqfpQCUd0DO+LSuoZI3vjkiwl98ckblY9jm13q1zXNXdrkX30KQ1rpGnh9E1tSUsrlsXmIsRjL0Nrw7kJY7V2WKvI6tJUtTvhmZK970WNG7dfWitRWrdfdFe5LUn9hZD9mkIryL8jelmYvB5JuEovuyYrG2lsyxunVbD6sMqzo2VzmJJzi8SOROpetAN7nOUyas3EUa+MmyeoMzjY7y4iCaKqyrCjI++LN21Pu2pWbM9Y0VUc5zk4URVM3QXKDNcyE+HymLlw2Xr1G3mVXWobta3SdJzLrFO5CjUlRkvC17XMY5vGzqXddqz5Z8fDQ1fBmctbymOwmTwMeM8MYq7bqtpX4Lr5mQX5KibxVZmTJwud63jRd9tlVJByVt0paziT4rOZHOZOjjZ05yxlLmTr1qk8sLZGLPKiwxvfIkaoxHcS825dtmrsGbpHlfu5l8rcTpy1ajoZWfH5K3NkKlWrWWCzzL1hfKnOXJ0h2nWNjEajXsar+JdjLv8qV2zfvUdO4KTN+BbC1cnflyVfGUYbjURZKcM0rJH2bMaLs9rWojV2RVTdN8fuV0TwLc2269S6gVdvfXwnOnX+PZEIxyU6yx2lZ85hNQ2I8VYXUGSydC1cR8VbKUL8rZ4rMFlzebkmbxc29iKqtViJ1qiogWJqHlG8G4mpfyGNuQX8jZZSqYCN9ezdmyEskkcdaKSGRYHtVI3Sc5xcKM6/H601uI5TchDfo0dQYCXCJm5Vr4y4zJ1clVkt8DpG0rL4GtWracxjuFNnNcqKiOXZSH8v00WWp6Z1JRfkbOHxWVlmvT4fvmvdjoWIpab8lXRrWzrHC9iOVWNVVjkc5PWqrjFxj9EZG9iIo9T5bM2mZSpdxlF+byORa25Vfz0M09dWubA1mzt3S8CIiqm6KqIBNsvyr2fDeU0/jcHZyWQxENKdHd+Q1ab4bcHPPksWpWqlVGKsbEaiSPkV6q1uzHq399Nco9nJ0M01uJnq5vT0i1r2Flu10c2SSFs0MsF5v4N8D4nq9sio3fm3dXiVdXyaKnq613+KrpVPyf7hbX/2Mbk3Yr9Y8pEbdlc9NMoib++/Bvam/wJv/AJAfXcu6nzd3B4VL2PnkgloOe/O2cvFamsOR7+F0kDt51c5fW7uVdtittb3cZZ5G7U2IoyY7HSc33tRmsvtSRcOp4myq6eRVc/imbI/rXq40T3ifdyjrjGeBsTp19nmc5jaksNzEWIZobcD68kjpEfHIxEROBWu338Tk9/qKjgX/AP4W/wDKv/8AdqAemeUnXzcTLSpVqVjK5bMumTH4uq+KJXsrsR89ixZnVI6tViOaivduu70REXr2wdGcolmfJJhs1iJMLkp6slui3v2HIU78ELmtn72uRNZ+HjV7VdE9jXIio5N06yA90FjmVNS4fOZCfK1MKuKtYm7ksPZs1342d9hlmvNbkq/hW05fXRq7bhRzGcSp63fN0BFpC7nsfNQz+SzuVxcN2Wmk2XvZSvVisQd72lkkeiww8bHMThc5FcrGqiLw9QbnTTvBOtsljY04aWrMW3PxRoiNjjytSVtHIqxqJvxzwrUlcq77uiVerdd7aKjvItzlDqJG1Vj05pWxLalRU4WWMrcZFXru690esNWWTxeJC3AAAAqnujLLrMeG07G5W+rHMRUbqse5j/BNdjrmUbG5vWjnwxJD+SdxL9aaDxuXirw3GWGxUd+92Ub9zHoxFa1nCveM0fExGtaiNXdE26iE8u8fe2Z0Tl378xj9QTY+dyIqpH4bpSUoZZFT2EaTtjbxL1IsqFl6pzUGNo3MhadwV8bUntTuRN1SOCN0j0aidbnKjdkROtVVEAoXRuj6bdfurYqS+yjo/FMnyjZsxkrjJ8pk2yNp15GW53t4GVeOX1u3rk2XxGDynWcN6ssszPvzC1IMLin1WYp+d5uKVz7ffEkrcMuzPWNj65Pg6vfLA7lbETMwa5e4n/zDWVyfPXF4lcjWXncVKJjl60ibUSFUb/F5xyIbvP8ALJpnHXLdC/lq9K5j1Z3xBabLE78JCyZjolczhnRY3t/g1d17p402AxdC2cXFpye1pR0mVrSpNPXa/K2ZJXzuYxsjHWck90tV7WtR3Nv4Vbt4kVxoe5d1Pm7uDwvf2Pnlgloue/O2cvFamsOR8nC6SB+86ucvrd3Ku2xh9znXdcl1dmKlaWrh9T5Nk+EimhWt3wjKixWckyFyIrIrMzmvRyoiu2XdOo/vcpa4xiYbE6cks8zncbVmguYixDNDbgkrySukR7JGIiJwK12+/icnv9QEJ7l7XGWp6KxrMXpyzlocWmQW9ZW/BQRXOyFyy6PHxTMc/ISMilZuqIxvEqsa5zmuRPR2hdTVszjaWUpq7vbJ1mWIkkREkYj09dHIjVVElY9HMciKqbsXZV8ZWHcT+4PC/wD4p9r3zL7jRd9D4HZd/wAFdT9GSuoqfpQDE7piolq5o+lJJYZXyOpO97bKtqxVfLCtSZysWWs9kiJu1F6lTxGiy+NZpjV2lqWFyN9YtQyX4MrgreTtZGJ1eGsssd5jbksklZ7Ho9eJFTiSPZNkR6O23dR4erkLujKV2Ftirc1OkViCRXI2Ri0592rwqi7b7eJSwdD8mOn8JI6bFYmnSnkYsbrEUXFPzaqiujSaRXSNjVWtVWouy8KfAgEeyHKhes3b1TTuBkzjMLYdUyV5+Tq42oy7G1rpaNZ87Xus2WI5Ed61rWr1K5N03/STlhprpvI6hjqzq7BPsV8lipnMit1b1SVkVmnM5OJjZGq9rt03RWuavVvslP6Pr4rDW8xi9R5zN4C2mbyN2k9mavY7G5Khcm74ht1Xx7QPl/CcEjUXiRzdl690bt9ZVsG3QGr7GBt3L1e/JNLavX5bUzrN1Epsllintsa6eLhSNvON3aqsciKuygWjpzlGs2WS5C1hp8Zp6PHTX2Zu/drNkfFE2ORr3YyPinhikhdLI1z1R20SbsarkQ1eneU/OZGOC9S0jbfh7nNyVrk+XoV701SRWq24zGORfwSsdxo1ZUc5qIqIu6b7rlZ07PldJ5LHU0RbN3CujrRoqNSSVIWvjh4lVGt41ajN12ROLrI/oXly02uPow2rzMfkY4q1OxhbMM8eQr3UbHA6r3msfOuVJfWoqN2VFRerr2Dfa55RZauRZhcTips1l3VO/Z67LMNKpSqLIsUct29MjkjdI9HcMbGvcqMcuyJw75HJ1r52Ss3cbex82Iy+JbDLax880dmOStY4uYt07cKIy1WcrHtVURqtc1WuRFKk5QKFXF6yyd7N5DMYrF6moY1KGXx1+1SpR26ET68tC9NV/g3uaqTMWTZvrpNl3VUJnyOQaYny1y9hsvfzV+DGspWrlrIXMjDHVfY5+KBlmdOaV6Ste7gY5Vaj3KqJxJuGv01y45LLYlmZxGk7lymxkz7jpMnWqvasEkjZY6EckavyL2sYjlVEY1XOVjXOc1yJ+PLrygWrGnMJlcEyy6vmMlh5u+IbzaM0TJblbgpSo127+eV0kL0RVa3hdvuhndx5t6gMNttt3vk/F4t/Cd/f+/fcrzGRSLyVaenZHLMzG3cXestgifNI2tVznHYkbHGiuejGIrl2TqRrl8SKBYvLbn2u0nlp9T6elSnFPQY/GRZiN0ltr71RsUjbVThWHgncxeHfrSNfeUyuUZP+nOiPxUtU/slEifdN65xOc0Hm7GJvQ3Ya9nExzSQ8aNjeuUx8nC7nGoqLwqi/3ks5Rl/6c6I/HS1T+yUQNjneUy4/JXMXgMHLm58OsTcpZkvwYyhWmmZzrKrLMzHrZtpGrXOYxio3jajnIu6JtdC6pqalo369ijLWlrzWMVnMNkGsdJBKsaJLC9WKsditJDKjmysVWva/q99Eo3GUcdhM7qSpqPM5nB+F89czWJuVstcxuKv1L3NvWNkkLuaW7A5Obej1a5U5vZFROq2uQirgF8K3cFfu5Pv61AzIZC7ZtWknsVYOCPmrNpqc+jYntYrmK5vrUbvu1UQPjuacnM7F2sVZkfLY0fmL2AdPLtxz16T2rRmdt496csDd/fWNVLRKh7mhFsJqbLJt3vndXZOWg9juJs1OosdCOdq7fx5K836C3gAAAAAAAAAAAAAAAAAAAAAAAAAAAAAAAAAAAAAAAAAAAAAAAAAAAAAAAAAAAAAAAAAAAr/Xnuk0l+dzf2W4sAr/AF57pNJfnc39luLAAAAAAAAAArzld9sNH/Ov9w5wsMrzld9sNH/Ov9w5wsMAAAAAAAAAAAAAAAAAAAAAAAAAAAAAAAAAAAAAAAAAAAAAAAAAAAAAAAAAAAAAAAAAAABodD6Uq4as+nR5xlV1u1ahrPc1Y6q25nWJYKyNanN1klfI5GLvtzjk322RN8AB8yMRyK1yI5F8aOTdF/Ki+M+gB8xsa1Ea1EaieJrURET8iJ4j6AAAAAAAP45EVFRU3RU2VF8Sp8CnzFE1icLWta1P4rURqfoQ+wAPiWJj02e1rkRd0RzUciL8PX759gAfEcLGqqta1qvXdytaiK5fhXbxqfYAAAAAACofEMTWJsxrWpvvs1qNTf4dk98+wBotM6Vq4+fJWoucks5y733dsTua+R7mxMggharWpw14YY2sYz3k33VVVVXegAAABptbaaqZihZxt1ivrXo+CTgdwyMc1zZIpoX7esmjlYyRruvZzGr7xtasSsYxivfIsbGtWWTh43q1ERXv4ERvGu267IibqvUh+gAHxLCx+3GxruFd28TUdsvwpv4j7AAAAAAAAAHxLE16bPa1yb77Oajk3T39l98+0QAAfHNM4uPhbxom3HwpxbfBxePY+wB/HsRyKjkRUXqVFTdFT8aL4z+Rsa1Ea1Ea1PE1qIiJ+RE8R9AAAAAAA+JYmvThe1rkX+K5Ecn6FMfL0EsVp63OSwJZgkg56s5rJoUkYrOOFzmq1kjUXdFVF2VE6jLAGt0tg62MpVcfTj5qrjq8devHvuqRxNRreJy9b3rturl61VVVetTZAAAAAAAAAAAAAAAAAAAAAAAAAAAAAAAAAAAAAAAAAAAAAAAAAAAAAAAAAAAAAAAAAAAABX+vPdJpL87m/stxYBX+vPdJpL87m/stxYAAAAAAAAAFecrvtho/51/uHOFhlecrvtho/wCdf7hzhYYAAAAAAAAAAAAAAAAAAAAAAAAAAAAAAAAAAAAAAAAAAAAAAAAAAAAAAAAAAAAAAAAAAAAAAAAAAAAAAAAAAAAAAAAAAAAAAAAAAAAAAAAAAAAAAAAAAAAAAAAAAAAAAAAAAAAAAAAAAAAAAAAAAAAAAAAAAAAAAAAAAAAAAAAAAAAAAAAAAAAAAAAAAAAAAAAAAAAAAAAFf6890mkvzub+y3FgFf6890mkvzub+y3FgAAAAAAAAAV5yu+2Gj/nX+4c4WGV5yu+2Gj/AJ1/uHOFhgAAAAAAAAAAAAAAAAAAAAAAAAAAAAAAAAAAAAAAAAAAAAAAAAAAAAAAAAAAAAAAAAAAAAAAAAAAAAAAAAAAAAAAAAAAAAAAAAAAAAAAAAAAAAAAAAAAAAAAAAAAAAAAAAAAAAAAAAAAAAAAAAAAAAAAAAAAAAAAAAAAAAAAAAAAAAAAAAAAAAAAAAAAAAAAAAAAAAAAAAV/rz3SaS/O5v7LcWAV/rz3SaS/O5v7LcWAAAAAAAAABXnK77YaP+df7hzhYZXnK77YaP8AnX+4c4WGAAAAAAAAAAAAAAAAAAAAAAAAAAAAAAAAAAAAAAAAAAAAAAAAAAAAAAAAAAAAAAAAAAAAAAAAAAAAAAAAAAAAAAAAAAAAAAAAAAAAAAAAAAAAAAAAAAAAAAAAAAAAAAAAAAAAAAAAAAAAAAAAAAAAAAAAAAAAAAAAAAAAAAAAAAAAAAAAAAAAAAAAAAAAAAAAAAAAAAAABX+vPdJpL87m/stxYBX+vPdJpL87m/stxYAAAAAAAAAFecrvtho/51/uHOFhlecrvtho/wCdf7hzhYYAAAAAAAAAAAAAAAAAAAAAAAAAAAAAAAAAAAAAAAAAAAAAAAAAAAAAAAAAAAAAAAAAAAAAAAAAAAAAAAAAAAAAAAAAAAAAAAAAAAAAAAAAAAAAAAAAAAAAAAAAAAAAAAAAAAAAAAAAAAAAAAAAAAAAAAAAAAAAAAAAAAAAAAAAAAAAAAAAAAAAAAAAAAAAAAAAAAAAAAAFf6890mkvzub+y3FgFf6890mkvzub+y3FgAAAAAAAAAV5yu+2Gj/nX+4c4WGV5yu+2Gj/AJ1/uHOFhgAAAAAAAAAAAAAAAAAAAAAAAAAAAAAAAAAAAAAAAAAAAAAAAAAAAAAAAAAAAAAAAAAAAAAAAAAAAAAAAAAAAAAAAAAAAAAAAAAAAAAAAAAAAAAAAAAAAAAAAAAAAAAAAAAAAAAAAAAAAAAAAAAAAAAAAAAAAAAAAAAAAAAAAAAAAAAAAAAAAAAAAAAAAAAAAAAAAAAAAAV/rz3SaS/O5v7LcWAV/rz3SaS/O5v7LcWAAAAAAAAABXnK77YaP+df7hzhYZWHLvlK1KzpO1csQVK0GqkWazamZDDGi4PNsRZJZFRrEVzmp1r41Q3PS7pT5S4H6ZoffATYEJ6XdKfKXA/TND74dLulPlLgfpmh98BNgQnpd0p8pcD9M0Pvh0u6U+UuB+maH3wE2BCel3SnylwP0zQ++HS7pT5S4H6ZoffATYEJ6XdKfKXA/TND74dLulPlLgfpmh98BNgQnpd0p8pcD9M0Pvh0u6U+UuB+maH3wE2BCel3SnylwP0zQ++HS7pT5S4H6ZoffATYEJ6XdKfKXA/TND74dLulPlLgfpmh98BNgQnpd0p8pcD9M0Pvh0u6U+UuB+maH3wE2BCel3SnylwP0zQ++HS7pT5S4H6ZoffATYEJ6XdKfKXA/TND74dLulPlLgfpmh98BNgQnpd0p8pcD9M0Pvh0u6U+UuB+maH3wE2BCel3SnylwP0zQ++HS7pT5S4H6ZoffATYEJ6XdKfKXA/TND74dLulPlLgfpmh98BNgQnpd0p8pcD9M0Pvh0u6U+UuB+maH3wE2BCel3SnylwP0zQ++HS7pT5S4H6ZoffATYEJ6XdKfKXA/TND74dLulPlLgfpmh98BNgQnpd0p8pcD9M0Pvh0u6U+UuB+maH3wE2BCel3SnylwP0zQ++HS7pT5S4H6ZoffATYEJ6XdKfKXA/TND74dLulPlLgfpmh98BNgQnpd0p8pcD9M0Pvh0u6U+UuB+maH3wE2BCel3SnylwP0zQ++HS7pT5S4H6ZoffATYEJ6XdKfKXA/TND74dLulPlLgfpmh98BNgQnpd0p8pcD9M0Pvh0u6U+UuB+maH3wE2BCel3SnylwP0zQ++HS7pT5S4H6ZoffATYEJ6XdKfKXA/TND74dLulPlLgfpmh98BNgQnpd0p8pcD9M0Pvh0u6U+UuB+maH3wE2BCel3SnylwP0zQ++HS7pT5S4H6ZoffATYEJ6XdKfKXA/TND74dLulPlLgfpmh98BNgQnpd0p8pcD9M0Pvh0u6U+UuB+maH3wE2BCel3SnylwP0zQ++HS7pT5S4H6ZoffATYEJ6XdKfKXA/TND74dLulPlLgfpmh98BNgQnpd0p8pcD9M0Pvh0u6U+UuB+maH3wE2BCel3SnylwP0zQ++HS7pT5S4H6ZoffATYEJ6XdKfKXA/TND74dLulPlLgfpmh98BNgQnpd0p8pcD9M0Pvh0u6U+UuB+maH3wE2BCel3SnylwP0zQ++HS7pT5S4H6ZoffATYEJ6XdKfKXA/TND74dLulPlLgfpmh98BNgQnpd0p8pcD9M0Pvh0u6U+UuB+maH3wE2BCel3SnylwP0zQ++HS7pT5S4H6ZoffATYEJ6XdKfKXA/TND74dLulPlLgfpmh98BNgQnpd0p8pcD9M0Pvh0u6U+UuB+maH3wE2BCel3SnylwP0zQ++HS7pT5S4H6ZoffATYEJ6XdKfKXA/TND74dLulPlLgfpmh98BNgQnpd0p8pcD9M0Pvh0u6U+UuB+maH3wE2BCel3SnylwP0zQ++HS7pT5S4H6ZoffATYEJ6XdKfKXA/TND74dLulPlLgfpmh98BNgQnpd0p8pcD9M0Pvh0u6U+UuB+maH3wE2BCel3SnylwP0zQ++HS7pT5S4H6ZoffATYEJ6XdKfKXA/TND74dLulPlLgfpmh98BNgQnpd0p8pcD9M0Pvh0u6U+UuB+maH3wE2BCel3SnylwP0zQ++HS7pT5S4H6ZoffATYEJ6XdKfKXA/TND74dLulPlLgfpmh98BNgQnpd0p8pcD9M0Pvh0u6U+UuB+maH3wE2BCel3SnylwP0zQ++HS7pT5S4H6ZoffATYEJ6XdKfKXA/TND74dLulPlLgfpmh98BNgQnpd0p8pcD9M0Pvh0u6U+UuB+maH3wE2BCel3SnylwP0zQ++HS7pT5S4H6ZoffATYEJ6XdKfKXA/TND74dLulPlLgfpmh98BNgQnpd0p8pcD9M0Pvh0u6U+UuB+maH3wE2BCel3SnylwP0zQ++HS7pT5S4H6ZoffATYEJ6XdKfKXA/TND74dLulPlLgfpmh98BNgQnpd0p8pcD9M0Pvh0u6U+UuB+maH3wE2BCel3SnylwP0zQ++HS7pT5S4H6ZoffATYEJ6XdKfKXA/TND74dLulPlLgfpmh98BNgQnpd0p8pcD9M0Pvh0u6U+UuB+maH3wE2BCel3SnylwP0zQ++HS7pT5S4H6ZoffATYEJ6XdKfKXA/TND74dLulPlLgfpmh98BNgQnpd0p8pcD9M0Pvh0u6U+UuB+maH3wE2BCel3SnylwP0zQ++HS7pT5S4H6ZoffATYEJ6XdKfKXA/TND74dLulPlLgfpmh98BNgQnpd0p8pcD9M0Pvh0u6U+UuB+maH3wE2BCel3SnylwP0zQ++HS7pT5S4H6ZoffATYEJ6XdKfKXA/TND74dLulPlLgfpmh98BNgQnpd0p8pcD9M0Pvh0u6U+UuB+maH3wE2BCel3SnylwP0zQ++HS7pT5S4H6ZoffAYuvPdJpL87m/stxYBUOV1niMpqbSzMZlMdkHwPzT5mUL1e06NrsY5rXSNhe5WNVepFUt4AAAAAAAACFcpeAsXrenHxQtmhxmoO/L3G6JGx1vBOVrc4rZHIsn4exA3hair6/fbZFVJT4Kq9mg8hH5pmGPk70NWCazYkZDXqQyT2J5XI2OKGJivkke5eprGsaqqvwIB+fgqr2aDyEfmjwVV7NB5CPzSC8inK/Q1X4QWhWvV24p9dr3X4oolmbabLJDJE1kjncCxxo71yN6pG+MsYDD8FVezQeQj80eCqvZoPIR+aZgAw/BVXs0HkI/NHgqr2aDyEfmmYAMPwVV7NB5CPzR4Kq9mg8hH5pmADD8FVezQeQj80eCqvZoPIR+aZgAw/BVXs0HkI/NHgqr2aDyEfmmYAMPwVV7NB5CPzR4Kq9mg8hH5pmADD8FVezQeQj80eCqvZoPIR+aZgAw/BVXs0HkI/NIhr7Si2b2nJa1OF0WNzklq+5GwM5usuIylZHq16osqd8WK7eFqOX1yLtsiqk7AGH4Kq9mg8hH5o8FVezQeQj80guveUbIULrqOP0vmcw+OGOV9uukFah+E3VI2W53bPmaieuaidXE34T55LeVutmrtrFWKF7DZnHRJPPisnG1sj66q1vfFaRiq2eFHPYnF1ezRURU6wJ54Kq9mg8hH5o8FVezQeQj80zABh+CqvZoPIR+aPBVXs0HkI/NMwAYfgqr2aDyEfmjwVV7NB5CPzTMAGH4Kq9mg8hH5o8FVezQeQj80zABh+CqvZoPIR+aPBVXs0HkI/NMwAYfgqr2aDyEfmjwVV7NB5CPzTMAGH4Kq9mg8hH5o8FVezQeQj80zABh+CqvZoPIR+aPBVXs0HkI/NMwAQXXGlFsZHTc9enC6HGZezYvuRsDEjgkwuUqscrXbLKi2LEDeFqOX1yLtsiqku8FVezQeQj80zCrdXcsDquStYrHaezuas41Y23JqFWNtGF8sENlsS3JpEas3NTxO4Nv435dgsbwVV7NB5CPzR4Kq9mg8hH5pCuSflYoagluUm17uNymJ4e/8RlYOYtwtftwStRHK2SFd09ci7pxMVURHtV1ggYfgqr2aDyEfmjwVV7NB5CPzTMAGH4Kq9mg8hH5o8FVezQeQj80zABh+CqvZoPIR+aPBVXs0HkI/NMwAYfgqr2aDyEfmjwVV7NB5CPzTMAGH4Kq9mg8hH5o8FVezQeQj80zABh+CqvZoPIR+aPBVXs0HkI/NMwAYfgqr2aDyEfmjwVV7NB5CPzTMAGH4Kq9mg8hH5pEddaUWxkNOTV6cLocbmbFi+5GwM5uu/DZSqxytdssqd8WIG8LUcvrkXbZFVJ0AMPwVV7NB5CPzR4Kq9mg8hH5pXnKry10NPzy1pcdmshLVqpbsrisctiCvXVHuWWxYfIyOJiNje5VVepE3Um2htRRZfG0cpAySOHKVYrUMcyNSVjJmo9rZEY5Wo7ZevZVQDN8FVezQeQj80eCqvZoPIR+aZgAw/BVXs0HkI/NHgqr2aDyEfmmYAMPwVV7NB5CPzR4Kq9mg8hH5pmADD8FVezQeQj80eCqvZoPIR+aZgAw/BVXs0HkI/NHgqr2aDyEfmmYAMPwVV7NB5CPzR4Kq9mg8hH5pmADD8FVezQeQj80eCqvZoPIR+aZgAw/BVXs0HkI/NHgqr2aDyEfmmYAIJrbSi2MppqxXpwur4zKXZ8g5GwMSOGXC5KrE5WOVHSotmeBuzUcqcSLtsiqkv8ABVXs0HkI/NKpt8ujZp8g3C4DM56pg55K+RyWOZXbXSeFOKaGk2aRJL8jE29bGnXu1U3RzXOsLk81hQz2OrZTGyrLVuNVW8TeCSN7HKySGZn8SVj0VFTrTq3RVRUVQ2ngqr2aDyEfmjwVV7NB5CPzTMAGH4Kq9mg8hH5o8FVezQeQj80zABh+CqvZoPIR+aPBVXs0HkI/NMwAYfgqr2aDyEfmjwVV7NB5CPzTMAGH4Kq9mg8hH5o8FVezQeQj80zABh+CqvZoPIR+aPBVXs0HkI/NMwAYfgqr2aDyEfmjwVV7NB5CPzTMAGH4Kq9mg8hH5o8FVezQeQj80zABh+CqvZoPIR+aQ7WuknWMvpmzBUgdWxWRyE2QcjYGIyKbDX6sKqx2yy72JoU2aiqm+/UiKqT0pXG90di7N/G0ocVn0jzlyKnSydnGJVoSSyqiJwSzyo96Iio5dm77e8oFveCqvZoPIR+aPBVXs0HkI/NMwAYfgqr2aDyEfmjwVV7NB5CPzTMAGH4Kq9mg8hH5o8FVezQeQj80zABh+CqvZoPIR+aPBVXs0HkI/NMwAYfgqr2aDyEfmjwVV7NB5CPzTMAGH4Kq9mg8hH5o8FVezQeQj80zABh+CqvZoPIR+aPBVXs0HkI/NMwAYfgqr2aDyEfmjwVV7NB5CPzTMAGH4Kq9mg8hH5o8FVezQeQj80zDEzOQiqVrFuZVSGlXlsTK1FcqRQxukkVGp414Wr1ARHVulFny+nrMNSBa2Ns5F953DA3gZPjZ68PrF2WTeZ7E2ai7eNdttyW+CqvZoPIR+aU5a5f5mQPvpo7Va4uFqySXn0IY5Ehb1unbVfNxrCjfXcaqicO6qqIilraJ1PSzNCtk8dMk9O9HxwyoitXqcrHse13WyRj2ua5q+JWqBm+CqvZoPIR+aPBVXs0HkI/NMwAYfgqr2aDyEfmjwVV7NB5CPzTMAGH4Kq9mg8hH5o8FVezQeQj80zABh+CqvZoPIR+aPBVXs0HkI/NMwAYfgqr2aDyEfmjwVV7NB5CPzTMAGH4Kq9mg8hH5o8FVezQeQj80zABh+CqvZoPIR+aPBVXs0HkI/NMwAYfgqr2aDyEfmjwVV7NB5CPzTMAGH4Kq9mg8hH5pEdVaTWbNaftw1IFq45cr387hhajO+abYoN412dJvIip61F28a7E2sy8DHvVHOSNjnK1ibuXhRV2anvuXbxFMWeW3LMiW36hdSpQjaskk0rasdxkaJurvB/Gsu6N69t02At/wVV7NB5CPzR4Kq9mg8hH5prOT7V9HPY6tlMdIstS6xVYr2qyRjmOWOSKVi+wkY9rmqnWnVuiqioq78DD8FVezQeQj80eCqvZoPIR+aZgAw/BVXs0HkI/NHgqr2aDyEfmmYAMPwVV7NB5CPzR4Kq9mg8hH5pmADD8FVezQeQj80eCqvZoPIR+aZgAw/BVXs0HkI/NHgqr2aDyEfmmYAMPwVV7NB5CPzR4Kq9mg8hH5pmADD8FVezQeQj80eCqvZoPIR+aZgAw/BVXs0HkI/NHgqr2aDyEfmmYAITqTTMj83p65WrRNr42TKLdkZzUasSzRWGH1u6Ok3k6vWou3jXYmxA+WnlUxulKkNq+2xO+3K+OtTpMZJalSKNZbErWPe1EhijTie9V2Tib8KEo0jm48nj6GSha9kOVo1bsMcqNSRkduBk7GyIxVaj0bIiLsqpui9agbQAAAABpdb6qoYWjNksnP3tSqrEk9hYppuBZpWQR/g4GOkdvJIxOpq7b7rsiKpW//AMTuhv59Z9G5X0QuF7EcmzkRUX3lRFT9Cn5d6xfycf8A5G/+wEC0Fy16YztxMficolu26KSZIUp34fwcXDxu5yxXYzq4k6t9194j3KZK7U+Zj0nXc7wXjOYv6wsRu2R8arzlDBcSdaPsOYksm2ypFGmy9aoXAyBjV3axjV+FGoi/pRCrclyD4ia5dusu52pLlrcly2zH5uzUhfPIvrn81Dsni2RN9+pEA0Hc6MRup+UNrURrW5nHNa1E2RrUr2UREROpERNuovU818gHJO6nqbUtqdc9DDj8rVdiprdu42DJxOgsNkksOlRG5RGqrfXqruHiT4T0oAAAAAAAAAAAAAAAAANNrbVNDC0Zslk5+9qVRYknsLFNLwc9NHBH+DgY6R28srE6mrtxbrsiKpuT+PYjk2ciKi+NFTdP0KBT3/xO6G/n1n0blfRDf6D5bNMZ24mPxWUS3bdFJMkKUr8O8cW3G7nLFdjE24k6t9194nvesX8nH/5G/wDsfTIGNXdrGNX4UaiL+lEAj/KFmcnRqsmxWHfm7DrDY3048hVx6xwrHK51hZrfrHI17I2cCda86i+JFKY5IcjLldcXcjnYFwueo4JtGhpt7XSf/LVsc8++mQ2SLIKs0kjPwSIjUVepVYqpOtbcrdjEX7FSxpbUlyvGsfemSwlBuRrWWOgiker+F7FrSNmfJFwO335ri32XZIloWtl9Savq6ntYe3gsTgcXYpY+LKtSHJXp7SvbI+aqnroIWtkfsjurdrFaruN3AF/AAAAAAAAAAAAAAAAAADS631VQwtGXJZOx3rSrLE2adYppuBZpWQx/g4GOkXeSRidTV233XZEVSt//AIndDfz6z6NyvohcL2I5NnIiovvKiKn6FPy71i/k4/8AyN/9gIHoHlq0xnrneGJyiW7fMyT8ylO9D+CiVqPdx2K7GdSvb1b7rv1eJSd5C5DXilnnljggrxvlnnme2OKKKNqvkkke5UaxjWoqqq9SIin2yBjV3axrV+FrURf0oh5c7onP5bI59MNd09qe1pPFuimtMwGKs2Fz1pGRTxxzWk4GMx7HuVqtjcqq6FV9lwLEEs5E2v1DqvK61hhfXxDsY3BYV8sbopMnHFYZLYyCxuRHNh5yHgZxJuqKiKiKxyJfZWXJVyk+E7DcbHpbUeDgrVFdDNlsN3hQZHBzccdaJyOVrX8Lk4WIiJtG74CzQAAAAAAAAAAAAAAAABpNcasx+EpS5HKWO9aVd0TZZ1imm4VmkbDGnN12Peu8j2p1J1b7rsnWbs+XsRybORFT4FRFT9CgU/8A/E7ob+fWfRuV9EJDyf8ALRpnP3O8MTk0uW0gfOsKU70P4KNzGvfx2K7GdSyM6t9138XUpO+9Yv5OP/yN/wDY+o4GNXdrGtX4WtRF/SiAQ3l99ympfm7lv2Gcxe5v9yOnP7Eo/wCi0jPdL60sw0cngq2ntRZSXM4G1FDfxOKfcowy3IrNVkc80a7tkarUe5qNVUbIxevcxu5h1ladQxWAtac1HjZcViIo5shlMVJUx75KzY43MimkXiV7ldu1FaiqjXfABd4AAAAAAAAAAAAAAAAAAGi5Q78lXD5W1FvztPFXp4uHx85DVlkZt+PiahvT8MjUZYhlglTijsxSQyt+FkjVY9P72uUCrO49x8dfRWCbGifhq89iRyeN0k9ueR26++qcSN/IxPgNH3K7eYyOu6MfVXqaxtzQMRNmsW0iq+NqJ4kakUbf7kNJyWamymisc/TWS0/nso/ETWUw2QwmNfdqZKrYnlnhR8rHKlSZHyPRWO34G8Pj2TeedzRou9isfet5VjIsrqjMXM1kK8bkc2q+29HMq8bepytRFcu2+yyuTddtwLVAAAAAAAAAAAAAAAAAAAAACje6X9utAfOxn/0MLyPKfLTrzIZPK6dmr6P1hzelc+ty05cBM5tiGPZn+6OjVUkV3CqorlaioqdYHqwEY5NdWuzVN1t+LyuIVlh8CVM3T7ztORjI3c82JXKvMrzitR3vrG74CTgAAAAAAAAAAAAAAAAAAAAMDUV99SnbtR15bb6dWexHTrN4p7L4YnSNrwtRF4pZFajGp8LkAjXLFyg1NO459qdqz2bC974vGxIr7GRvSethqwxtRXORXq3iVEXZF8SqqIul7l3Q1nT2mMfjrvVcXnbVqJHI5IJbUiy978TVVrnMarWuVFVFcj9lVNlKM0FrTI+FptR6k0drPIZjd8OKgq6dndjsLSXqSOk2ZzXOsvRV45nNR3WqJ43Kvp3k61S7MUkuPxmTxKrNJF3nmai1LezOH8IsKqu0bt+pff2UCSAAAAAAAAAAAAAAAAAAAAABVPK5rzVOMdbbidIy5SvXga+LJtyldUVyxcb1TFxotudY37t4GbK/h6lTdCyNQW5q9S1PXrOuWK9WeWvSZI2J1qaOJz4qzZHIrY3SPa1nEqKicW5T9jl9s8LootEazde62MryYfm6yy+JOK6kjkbBxf8A63gVNuvbYDadyPjsbW0pQZi7yZGCR9iWe1zK1/8Ae5JXOni72d66Dm12YjV8aNRydTkLaKp7l7ROQwmGnTKpHHkc3lrmYu1YHI6KpLcSJve7Fa5Wrwthaq7KqIr1RFdtutrAAAAAAAAAAAAAAAAAAAAMXLZCCpXmtWZWQV6kMk9ieReFkUUTVfJI9feajWqv9xlGl1zpirmcdaxl1JFq5CNIp0hfzcisR7X7NfsvCu7EA866xpz5nTWqtZX43xrlMHYq6apy+Ojgd2vZOrPE21cciTOXr2ZzSI7Zdi8eQn3K6a+beG+zqxU/LFyD1odPZVcfb1NcsxY+RKlBc1fuMme1ERkPeab8+3ZNuDZfEWF3OGjvA+n8a1z8j3xcxeNmuVsnYnkdTs95QpLWhhn66cbH8TeZRE4eHbZNgLJAAAAAAAAAAAAAAAAAAAAAAAAAAAAAAAAAAAAAAAAAAAAAAAAAAAAAAAAAAAAAAAAAAAAAAAAAAAAAAAAAAAAAAAAAAAAAAAAAAAAAAAAAAAAAAAAAAAAAAAAAAAAAAAAAAAAAAAAAAAAAAAAAAAAAAAAAAAAAAAAAAAAAAAAAAAAAAAAAAAAAAAAAAAAAAAAAAAAAAAAAAAAAAAAAAAAAAAABxnAHZgHGcAdmAcZwB2YBxnAHZgHGcAdmAcZwB2YBxnAHZgHGcAdmAcZwB2YBxnAHZgHGcAdmAcZwB2YBxnAHZgHGcAdmAcZwB2YBxnAHZgHGcAdmAcZwB2YBxnAHZgHGcAdmAcZwB2YBxnAHZgHGcAdmAcZwB2YBxnAHZgHGcAdmAcZwB2YBxnAHZgHGcAdmAcZwB2YBxnAHZgHGcAdmAcZwB2YBxnAHZgHGcAdmAcZwB2YBxnAHZgHGcAdmAcZwB2YBxnAHZgHGcAdmAcZwB2YBxnAHZgHGcAdmAcZwB2YBxnAHZgHGcAdmAcZwB2YBxnAHZgHGcAdmAcZwB2YBxnAHZgHGcAdmAcZwB2YBxnAHZgHGcAdmAcZwB2YBxnAHZgHGcAdmAcZwB2YBxnAHZgHGcAdmAcZwB2YBxnAHZgHGcAdmAcZwB2YBxnAHZgHGcAdmAcZwB2YBxnAHZgHGcAdmAcZwB2YBxnAHZgHGcAdmAcZwB2YBxnAHZgHGcAdmAcZwB2YBxnAHZgHGcAAAAAAAAAAAAAAAAAAAAAAAAAAAAAAAAAAAAAAAAAAAAAAAAAAAAAAAAAAAAAAAAAAAAAAAAAAAAAAAAAAAAAAAAAAAAAAAAAAAAAAAAAAAAAAAAAAAAAAAAAAAAAAAAAAAAAAAAAAAAAAAAAAAAAAAAAAAAAAAAAAAAAAAAAAAAAAAAAAAAAAAAAAAAAAAAAAAAAAAAAAAAAAAAAAAAAAAAAAAAAAAAAAAAAAAAAAAAAAAAAAAAAAAAAAAAAAAAAAAAAAAAAAAAAAAAAAAAAAAAAAAAAAAAAAAAAAAAAAAAAAAAAAAAAAAAAAAAAAAAAAAAAAAAAAAAAAAAAAAAAAAAAAAAAAAAAAAAAAAAAAAAAAAAAAAAAAAAAAAAAAAAAAAAAAAAAAAAAAAAAAAAAAAAAAAAAAAAAAAAAAAAAAAB//Z)"
      ]
    },
    {
      "cell_type": "code",
      "execution_count": null,
      "metadata": {
        "id": "0gqyad1AzMii"
      },
      "outputs": [],
      "source": []
    },
    {
      "cell_type": "code",
      "execution_count": null,
      "metadata": {
        "id": "fGbTMxpNzkPe"
      },
      "outputs": [],
      "source": []
    },
    {
      "cell_type": "markdown",
      "metadata": {
        "id": "XA6zdUAG2a4U"
      },
      "source": [
        "### Bar Graph\n"
      ]
    },
    {
      "cell_type": "markdown",
      "metadata": {
        "id": "XHK1RQkt2YUi"
      },
      "source": [
        "\n",
        "\n",
        "- A bar graph is generally used to show the counts of observations in each bin (or level or group) of categorical variable using bars.\n",
        "- We can use the *countplot()* function of seaborn to plot a bar graph."
      ]
    },
    {
      "cell_type": "code",
      "execution_count": null,
      "metadata": {
        "id": "9gtPbnWZ2e_j"
      },
      "outputs": [],
      "source": []
    },
    {
      "cell_type": "markdown",
      "metadata": {
        "id": "aYCaJA0s3Ba0"
      },
      "source": [
        "### Scatterplot"
      ]
    },
    {
      "cell_type": "markdown",
      "metadata": {
        "id": "cgMlrqsA2_3N"
      },
      "source": [
        "\n",
        "\n",
        "Sometimes we want to know if two variables mean something when put together, whether a small change in one variable affects the other variable. In such cases, plotting a **scatterplot**, or **scatter-diagram**, with our data points can help us to check whether there is a potential relationship between them.\n",
        "\n",
        "- It takes two perpendicular axes of coordinates, one for x and one for y.\n",
        "- Unlike the lineplot, it directly plots each pair of values as a point on the 2D space.\n",
        "- The *scatterplot()* function of seaborn can be used to make a scatterplot."
      ]
    },
    {
      "cell_type": "code",
      "execution_count": null,
      "metadata": {
        "colab": {
          "base_uri": "https://localhost:8080/",
          "height": 308
        },
        "id": "xdusEGyu3euo",
        "outputId": "8e393749-3272-4c46-84d9-18a99f3c1f3e"
      },
      "outputs": [],
      "source": []
    },
    {
      "cell_type": "markdown",
      "metadata": {
        "id": "e--2NoWa3mzq"
      },
      "source": [
        "### lmplot"
      ]
    },
    {
      "cell_type": "markdown",
      "metadata": {
        "id": "j8ruP0Nm3fJh"
      },
      "source": [
        "\n",
        "The lmplot() function plots a scatterplot and also fit a linear model with a confidence interval for the fitted model."
      ]
    },
    {
      "cell_type": "code",
      "execution_count": null,
      "metadata": {
        "id": "QfvrwGvx3qbW"
      },
      "outputs": [],
      "source": []
    },
    {
      "cell_type": "markdown",
      "metadata": {
        "id": "UOouIZa-32PO"
      },
      "source": [
        "### Heatmap"
      ]
    },
    {
      "cell_type": "markdown",
      "metadata": {
        "id": "6m0cEVBd30Y9"
      },
      "source": [
        "\n",
        "A heatmap is a graphical representation of data as a color-encoded matrix.\n",
        "It is a great way of representing the correlation for each pair of columns in the data.\n",
        "The heatmap() function of seaborn helps us to create such a plot."
      ]
    },
    {
      "cell_type": "markdown",
      "metadata": {
        "id": "0jO48SVy4Gb1"
      },
      "source": [
        "### Plotly"
      ]
    },
    {
      "cell_type": "markdown",
      "metadata": {
        "id": "BskkEejS4Ee1"
      },
      "source": [
        "\n",
        "Plotly is an open-source Python graphing library for building beautiful and interactive visualizations.\n",
        "\n",
        "Import plotly library"
      ]
    },
    {
      "cell_type": "code",
      "execution_count": null,
      "metadata": {
        "id": "4O9dROto4cq7"
      },
      "outputs": [],
      "source": [
        "# importing plotly\n",
        "import plotly.express as px"
      ]
    },
    {
      "cell_type": "code",
      "execution_count": null,
      "metadata": {
        "id": "69kZlm824T-w"
      },
      "outputs": [],
      "source": []
    },
    {
      "cell_type": "markdown",
      "metadata": {
        "id": "zjZUld3RBJZM"
      },
      "source": [
        "## **Imputing Missing Values**"
      ]
    },
    {
      "cell_type": "markdown",
      "metadata": {
        "id": "1WplutpEBVb7"
      },
      "source": [
        "* There is no universally accepted method of dealing with missing values.\n",
        "* It is often left to the discretion of the data scientist to take a decision on missing values that is whether to impute them or drop them.\n",
        "* However, it is sometimes a good practice to impute the missing values rather than dropping them, because it can lead to loss of information in other features where values are present.\n",
        "\n",
        "**How to treat missing values?**\n",
        "\n",
        "One of the commonly used method to deal with the missing values is to impute them with the central tendencies - mean, median, and mode of a column.\n",
        "* `Replacing with mean`: In this method the missing values are imputed with the mean of the column. Mean gets impacted by the presence of outliers, and in such cases where the column has outliers using this method may lead to erroneous imputations.\n",
        "* `Replacing with median`: In this method the missing values are imputed with the median of the column. In cases where the column has outliers, median is an appropriate measure of central tendency to deal with the missing values over mean.\n",
        "* `Replacing with mode`: In this method the missing values are imputed with the mode of the column. This method is generally preferred with categorical data.\n",
        "* Other methods include k-NN, MICE, SMOTE, deep learning, ...\n",
        "\n",
        "**Limitations of imputing missing values with central tendencies**\n",
        "\n",
        "* When we impute the missing values with central tendencies the original distribution of the feature can get distorted.\n",
        "* After imputation with the central value the variance and standard deviation of a feature can get drastically impacted.\n",
        "* The impact of distortion is higher with higher percentage of missing values.\n",
        "\n",
        "So, before directly imputing the missing values with central values of column we should investigate the missing data closely to observe the pattern of missing values, and then take a decision to impute the missing value with appropriate measure."
      ]
    },
    {
      "cell_type": "code",
      "execution_count": null,
      "metadata": {
        "id": "pCI0jL6xBPif"
      },
      "outputs": [],
      "source": []
    }
  ],
  "metadata": {
    "colab": {
      "provenance": []
    },
    "kernelspec": {
      "display_name": "Python 3 (ipykernel)",
      "language": "python",
      "name": "python3"
    },
    "language_info": {
      "codemirror_mode": {
        "name": "ipython",
        "version": 3
      },
      "file_extension": ".py",
      "mimetype": "text/x-python",
      "name": "python",
      "nbconvert_exporter": "python",
      "pygments_lexer": "ipython3",
      "version": "3.10.8"
    }
  },
  "nbformat": 4,
  "nbformat_minor": 0
}
